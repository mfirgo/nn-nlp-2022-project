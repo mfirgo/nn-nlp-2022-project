{
  "nbformat": 4,
  "nbformat_minor": 0,
  "metadata": {
    "colab": {
      "name": "HMM_test_of_trainig.ipynb",
      "provenance": [],
      "collapsed_sections": []
    },
    "kernelspec": {
      "name": "python3",
      "display_name": "Python 3"
    }
  },
  "cells": [
    {
      "cell_type": "markdown",
      "metadata": {
        "id": "lDJIV2EVBuFZ"
      },
      "source": [
        "# Fun with Hidden Markov Models\n",
        "*by Loren Lugosch*"
      ]
    },
    {
      "cell_type": "markdown",
      "source": [
        "## HMM main class"
      ],
      "metadata": {
        "id": "cNC9uFywA8Pn"
      }
    },
    {
      "cell_type": "code",
      "source": [
        "import torch\n",
        "import torch.nn as nn\n",
        "import torch.nn.functional as F\n",
        "import torch.distributions as distrib\n",
        "import torch.distributions.transforms as transform\n",
        "# Imports for plotting\n",
        "import numpy as np\n",
        "import matplotlib.pyplot as plt"
      ],
      "metadata": {
        "id": "OSjVMTgrK8Ck"
      },
      "execution_count": 1,
      "outputs": []
    },
    {
      "cell_type": "code",
      "metadata": {
        "id": "aZbW6Pj0og7K"
      },
      "source": [
        "import torch\n",
        "import numpy as np\n",
        "\n",
        "class HMM(torch.nn.Module):\n",
        "  \"\"\"\n",
        "  Hidden Markov Model with discrete observations.\n",
        "  \"\"\"\n",
        "  def __init__(self, N, distributions, transition_matrix=None, state_priors='uniform'):\n",
        "    super(HMM, self).__init__()\n",
        "    #self.M = M # number of possible observations\n",
        "    self.N = N # number of states\n",
        "\n",
        "    # A\n",
        "    self.transition_model = TransitionModel(self.N, transition_matrix)\n",
        "\n",
        "    # b(x_t)\n",
        "    self.emission_model = EmissionModel(self.N, distributions)\n",
        "\n",
        "    # pi # CHECK\n",
        "    if state_priors==\"uniform\":\n",
        "        self.unnormalized_state_priors = torch.ones(self.N)/self.N#torch.nn.Parameter(torch.randn(self.N))#torch.randn(self.N)#\n",
        "        self.normalized_state_priors = self.unnormalized_state_priors\n",
        "        self.log_normalized_state_priors = torch.log(self.unnormalized_state_priors)\n",
        "    elif state_priors==\"random\":\n",
        "        self.unnormalized_state_priors = torch.randn(self.N)\n",
        "        self.normalized_state_priors = torch.nn.functional.softmax(self.unnormalized_state_priors, dim=0)\n",
        "        self.log_normalized_state_priors = torch.nn.functional.log_softmax(self.unnormalized_state_priors, dim=0)\n",
        "    elif torch.is_tensor(state_priors):\n",
        "        self.unnormalized_state_priors = state_priors\n",
        "        self.normalized_state_priors = torch.nn.functional.normalize(self.unnormalized_transition_matrix, p=1, dim=0)\n",
        "        self.log_normalized_state_priors = torch.log(self.normalized_state_priors)\n",
        "    else:\n",
        "        raise ValueError(\"state_priors must be 'uniform', 'random' or torch tensor\")\n",
        "\n",
        "\n",
        "    # use the GPU\n",
        "    self.is_cuda = torch.cuda.is_available()\n",
        "    if self.is_cuda: self.cuda()\n",
        "\n",
        "class TransitionModel(torch.nn.Module):\n",
        "  def __init__(self, N, transition_matrix=None):\n",
        "    super(TransitionModel, self).__init__()\n",
        "    self.N = N\n",
        "    if transition_matrix is None:\n",
        "        self.unnormalized_transition_matrix = torch.nn.functional.softmax(torch.randn(N,N), dim=1)#torch.nn.Parameter(torch.randn(N,N))# CHECK\n",
        "    else:\n",
        "        self.unnormalized_transition_matrix = transition_matrix\n",
        "  def normalized_transition_matrix(self):\n",
        "      #return torch.nn.functional.softmax(self.unnormalized_transition_matrix, dim=1) ## CHECK # original dim=0\n",
        "      return torch.nn.functional.normalize(self.unnormalized_transition_matrix, p=1, dim=1)\n",
        "  def log_normalized_transition_matrix(self):\n",
        "      #return torch.nn.functional.log_softmax(self.unnormalized_transition_matrix, dim=1) ## CHECK \n",
        "      return torch.log(self.normalized_transition_matrix())\n",
        "\n",
        "class EmissionModel(torch.nn.Module):\n",
        "  def __init__(self, N, distributions):\n",
        "    super(EmissionModel, self).__init__()\n",
        "    self.N = N\n",
        "    self.distributions = distributions ## list of distributions\n",
        "\n",
        "  def pdf(self, hidden_state, observation):\n",
        "    current_distribution = self.distributions[hidden_state]\n",
        "    return torch.exp(current_distribution.log_prob(torch.Tensor(observation)))\n",
        "\n"
      ],
      "execution_count": 2,
      "outputs": []
    },
    {
      "cell_type": "markdown",
      "source": [
        "## Sampling"
      ],
      "metadata": {
        "id": "YNgAlVJMA_vl"
      }
    },
    {
      "cell_type": "code",
      "metadata": {
        "id": "BpgkwNyVwmyM"
      },
      "source": [
        "def sample(self, T=10):\n",
        "  state_priors = self.normalized_state_priors#torch.nn.functional.softmax(self.unnormalized_state_priors, dim=0)\n",
        "  transition_matrix = self.transition_model.normalized_transition_matrix()\n",
        "  #emission_matrix = torch.nn.functional.softmax(self.emission_model.unnormalized_emission_matrix, dim=1)\n",
        "\n",
        "  # sample initial state\n",
        "  z_t = torch.distributions.categorical.Categorical(state_priors).sample().item()\n",
        "  z = []; x = []\n",
        "  z.append(z_t)\n",
        "  for t in range(0,T):\n",
        "    # sample emission\n",
        "    # x_t = torch.distributions.categorical.Categorical(emission_matrix[z_t]).sample().item()\n",
        "    current_distribution = self.emission_model.distributions[z_t]\n",
        "    x_t = current_distribution.sample()\n",
        "    x.append(x_t)\n",
        "\n",
        "    # sample transition\n",
        "    z_t = torch.distributions.categorical.Categorical(transition_matrix[z_t, :]).sample().item() # CHECK # original [:, z_t]\n",
        "    if t < T-1: z.append(z_t)\n",
        " \n",
        "  return torch.stack(x), z\n",
        "\n",
        "# Add the sampling method to our HMM class\n",
        "HMM.sample = sample"
      ],
      "execution_count": 3,
      "outputs": []
    },
    {
      "cell_type": "markdown",
      "source": [
        "#### One dimentional sampling test"
      ],
      "metadata": {
        "id": "QgHSpJB-mDtY"
      }
    },
    {
      "cell_type": "code",
      "source": [
        "test_model = HMM(2, [distrib.Normal(-1,1), distrib.Normal(1, 1)])"
      ],
      "metadata": {
        "id": "fvuibzlKQGbf"
      },
      "execution_count": 4,
      "outputs": []
    },
    {
      "cell_type": "code",
      "source": [
        "x, z = test_model.sample(20)"
      ],
      "metadata": {
        "id": "f-2ZlXeEQU-v"
      },
      "execution_count": 5,
      "outputs": []
    },
    {
      "cell_type": "code",
      "source": [
        "test_model.transition_model.normalized_transition_matrix()"
      ],
      "metadata": {
        "colab": {
          "base_uri": "https://localhost:8080/"
        },
        "id": "d_JoA2TGQm25",
        "outputId": "f9c80c31-e381-418b-e063-bc0883a6b746"
      },
      "execution_count": 6,
      "outputs": [
        {
          "output_type": "execute_result",
          "data": {
            "text/plain": [
              "tensor([[0.2177, 0.7823],\n",
              "        [0.3549, 0.6451]])"
            ]
          },
          "metadata": {},
          "execution_count": 6
        }
      ]
    },
    {
      "cell_type": "code",
      "source": [
        "\n",
        "plt.scatter(list(range(len(x))),x, c=z)"
      ],
      "metadata": {
        "colab": {
          "base_uri": "https://localhost:8080/",
          "height": 282
        },
        "id": "ZDqNbbUARKq7",
        "outputId": "1ca396c9-fcdf-489f-d776-cabbfbd9ed97"
      },
      "execution_count": 7,
      "outputs": [
        {
          "output_type": "execute_result",
          "data": {
            "text/plain": [
              "<matplotlib.collections.PathCollection at 0x7fc5341e7ad0>"
            ]
          },
          "metadata": {},
          "execution_count": 7
        },
        {
          "output_type": "display_data",
          "data": {
            "text/plain": [
              "<Figure size 432x288 with 1 Axes>"
            ],
            "image/png": "[encoded data removed]"
          },
          "metadata": {
            "needs_background": "light"
          }
        }
      ]
    },
    {
      "cell_type": "code",
      "source": [
        "x,z"
      ],
      "metadata": {
        "colab": {
          "base_uri": "https://localhost:8080/"
        },
        "id": "Dn2igp0GQe60",
        "outputId": "1432539a-5ce5-4c0f-82b7-056218da9362"
      },
      "execution_count": 8,
      "outputs": [
        {
          "output_type": "execute_result",
          "data": {
            "text/plain": [
              "(tensor([-0.8920, -1.0858,  1.5560, -0.2934,  1.3053,  0.5925, -0.1767, -0.9373,\n",
              "          0.7423, -2.2184, -0.8806,  0.2780,  1.4543,  1.1349,  1.3406,  0.8484,\n",
              "          0.9296,  2.2947,  0.9204,  1.5789]),\n",
              " [0, 1, 1, 0, 1, 1, 0, 0, 1, 0, 0, 1, 1, 1, 1, 0, 1, 1, 1, 1])"
            ]
          },
          "metadata": {},
          "execution_count": 8
        }
      ]
    },
    {
      "cell_type": "markdown",
      "source": [
        "#### two dimentional sampling test"
      ],
      "metadata": {
        "id": "1WNbMlwdmKH7"
      }
    },
    {
      "cell_type": "code",
      "source": [
        "test_model = HMM(2, [distrib.MultivariateNormal(torch.zeros(2),torch.eye(2)), distrib.MultivariateNormal(torch.ones(2)*5,torch.eye(2))])"
      ],
      "metadata": {
        "id": "PeTbT-VWSkSR"
      },
      "execution_count": 9,
      "outputs": []
    },
    {
      "cell_type": "code",
      "source": [
        "x, z = test_model.sample(200)"
      ],
      "metadata": {
        "id": "7lYjGYu4TLPv"
      },
      "execution_count": 10,
      "outputs": []
    },
    {
      "cell_type": "code",
      "source": [
        "test_model.transition_model.normalized_transition_matrix()\n"
      ],
      "metadata": {
        "colab": {
          "base_uri": "https://localhost:8080/"
        },
        "id": "QfWtNWpmTOuE",
        "outputId": "cfa2278c-8780-40a1-f61c-433576dd2c0c"
      },
      "execution_count": 11,
      "outputs": [
        {
          "output_type": "execute_result",
          "data": {
            "text/plain": [
              "tensor([[0.1157, 0.8843],\n",
              "        [0.4665, 0.5335]])"
            ]
          },
          "metadata": {},
          "execution_count": 11
        }
      ]
    },
    {
      "cell_type": "code",
      "source": [
        "plt.scatter(x[:,0],x[:,1], c=z)"
      ],
      "metadata": {
        "colab": {
          "base_uri": "https://localhost:8080/",
          "height": 284
        },
        "id": "HIudU1RcTRU-",
        "outputId": "27db6adb-c626-47f1-8d40-bb2ba484db73"
      },
      "execution_count": 12,
      "outputs": [
        {
          "output_type": "execute_result",
          "data": {
            "text/plain": [
              "<matplotlib.collections.PathCollection at 0x7fc533cdcad0>"
            ]
          },
          "metadata": {},
          "execution_count": 12
        },
        {
          "output_type": "display_data",
          "data": {
            "text/plain": [
              "<Figure size 432x288 with 1 Axes>"
            ],
            "image/png": "[encoded data removed]"
          },
          "metadata": {
            "needs_background": "light"
          }
        }
      ]
    },
    {
      "cell_type": "markdown",
      "metadata": {
        "id": "ohsdYScawkRG"
      },
      "source": [
        "Let's try hard-coding an HMM for generating fake words. (We'll also add some helper functions for encoding and decoding strings.)\n",
        "\n",
        "We will assume that the system has one state for generating vowels and one state for generating consonants, and the transition matrix has 0s on the diagonal---in other words, the system cannot stay in the vowel state or the consonant state for one than one timestep; it has to switch.\n",
        "\n",
        "Since we pass the transition matrix through a softmax, to get 0s we set the unnormalized parameter values to $-\\infty$."
      ]
    },
    {
      "cell_type": "code",
      "source": [
        "test_distr = distrib.Normal(5,1)"
      ],
      "metadata": {
        "id": "GO3bHRzkkQkN"
      },
      "execution_count": 13,
      "outputs": []
    },
    {
      "cell_type": "code",
      "source": [
        "torch.exp(test_distr.log_prob(torch.Tensor([4])))"
      ],
      "metadata": {
        "colab": {
          "base_uri": "https://localhost:8080/"
        },
        "id": "nomKg-z9kVZn",
        "outputId": "b15518a2-5636-4456-cad2-a975c44367e0"
      },
      "execution_count": 14,
      "outputs": [
        {
          "output_type": "execute_result",
          "data": {
            "text/plain": [
              "tensor([0.2420])"
            ]
          },
          "metadata": {},
          "execution_count": 14
        }
      ]
    },
    {
      "cell_type": "code",
      "source": [
        "x = np.linspace(0, 10, 1000)\n"
      ],
      "metadata": {
        "id": "ygpIvgX4kz9F"
      },
      "execution_count": 15,
      "outputs": []
    },
    {
      "cell_type": "code",
      "source": [
        "q0_density = torch.exp(test_distr.log_prob(torch.Tensor(x))).numpy()\n"
      ],
      "metadata": {
        "id": "vnlFqHsQkk5y"
      },
      "execution_count": 16,
      "outputs": []
    },
    {
      "cell_type": "code",
      "source": [
        "fig, ax1 = plt.subplots(1, 1, sharex=True, figsize=(15, 5))\n",
        "ax1.plot(x, q0_density); ax1.fill_between(x, q0_density, 0, alpha=0.5)\n",
        "\n"
      ],
      "metadata": {
        "colab": {
          "base_uri": "https://localhost:8080/",
          "height": 288
        },
        "id": "FvZwh66UlAa6",
        "outputId": "2f4eabcc-c2d7-4a5a-f418-11be18b052c8"
      },
      "execution_count": 17,
      "outputs": [
        {
          "output_type": "execute_result",
          "data": {
            "text/plain": [
              "<matplotlib.collections.PolyCollection at 0x7fc5341e7a10>"
            ]
          },
          "metadata": {},
          "execution_count": 17
        },
        {
          "output_type": "display_data",
          "data": {
            "text/plain": [
              "<Figure size 1080x360 with 1 Axes>"
            ],
            "image/png": "[encoded data removed]"
          },
          "metadata": {
            "needs_background": "light"
          }
        }
      ]
    },
    {
      "cell_type": "markdown",
      "metadata": {
        "id": "hKzlTlfRgZod"
      },
      "source": [
        "## The Three Problems\n",
        "\n",
        "In a [classic tutorial](https://www.cs.cmu.edu/~cga/behavior/rabiner1.pdf) on HMMs, Lawrence Rabiner describes \"three problems\" that need to be solved before you can effectively use an HMM. They are:\n",
        "- Problem 1: How do we efficiently compute $p(\\mathbf{x})$?\n",
        "- Problem 2: How do we find the most likely state sequence $\\mathbf{z}$ that could have generated the data? \n",
        "- Problem 3: How do we train the model?\n",
        "\n",
        "In the rest of the notebook, we will see how to solve each problem and implement the solutions in PyTorch."
      ]
    },
    {
      "cell_type": "markdown",
      "metadata": {
        "id": "v_RfIAnmN2RZ"
      },
      "source": [
        "### Problem 1: How do we compute $p(\\mathbf{x})$?"
      ]
    },
    {
      "cell_type": "markdown",
      "metadata": {
        "id": "DrH0YdUAhS6J"
      },
      "source": [
        "________\n",
        "\n",
        "<u><b>The Forward Algorithm</b></u>\n",
        "\n",
        "> for $s=1 \\rightarrow N$:\\\n",
        "> &nbsp;&nbsp;&nbsp;&nbsp;&nbsp;&nbsp;$\\alpha_{s,1} := b_s(x_1) \\cdot \\pi_s$ \n",
        "> \n",
        "> for $t = 2 \\rightarrow T$:\\\n",
        "> &nbsp;&nbsp;&nbsp;&nbsp;&nbsp;&nbsp;for $s = 1 \\rightarrow N$:\\\n",
        "> &nbsp;&nbsp;&nbsp;&nbsp;&nbsp;&nbsp;&nbsp;&nbsp;&nbsp;&nbsp;&nbsp;&nbsp;\n",
        "> $\\alpha_{s,t} := b_s(x_t) \\cdot \\underset{s'}{\\sum} A_{s, s'} \\cdot \\alpha_{s',t-1} $\n",
        "> \n",
        "> $p(\\mathbf{x}) := \\underset{s}{\\sum} \\alpha_{s,T}$\\\n",
        "> return $p(\\mathbf{x})$\n",
        "________\n"
      ]
    },
    {
      "cell_type": "markdown",
      "metadata": {
        "id": "bAdpwRiMn8Vn"
      },
      "source": [
        "The forward algorithm is much faster than enumerating all $N^T$ possible state sequences: it requires only $O(N^2T)$ operations to run, since each step is mostly multiplying the vector of forward variables by the transition matrix. (And very often we can reduce that complexity even further, if the transition matrix is sparse.)\n",
        "\n",
        "There is one practical problem with the forward algorithm as presented above: it is prone to underflow due to multiplying a long chain of small numbers, since probabilities are always between 0 and 1. Instead, let's do everything in the log domain. In the log domain, a multiplication becomes a sum, and a sum becomes a [logsumexp](https://lorenlugosch.github.io/posts/2020/06/logsumexp/).  "
      ]
    },
    {
      "cell_type": "markdown",
      "metadata": {
        "id": "FZ8VsLFxA3iT"
      },
      "source": [
        "________\n",
        "\n",
        "<u><b>The Forward Algorithm (Log Domain)</b></u>\n",
        "\n",
        "> for $s=1 \\rightarrow N$:\\\n",
        "> &nbsp;&nbsp;&nbsp;&nbsp;&nbsp;&nbsp;$\\text{log }\\alpha_{s,1} := \\text{log }b_s(x_1) + \\text{log }\\pi_s$ \n",
        "> \n",
        "> for $t = 2 \\rightarrow T$:\\\n",
        "> &nbsp;&nbsp;&nbsp;&nbsp;&nbsp;&nbsp;for $s = 1 \\rightarrow N$:\\\n",
        "> &nbsp;&nbsp;&nbsp;&nbsp;&nbsp;&nbsp;&nbsp;&nbsp;&nbsp;&nbsp;&nbsp;&nbsp;\n",
        "> $\\text{log }\\alpha_{s,t} := \\text{log }b_s(x_t) +  \\underset{s'}{\\text{logsumexp}} \\left( \\text{log }A_{s, s'} + \\text{log }\\alpha_{s',t-1} \\right)$\n",
        "> \n",
        "> $\\text{log }p(\\mathbf{x}) := \\underset{s}{\\text{logsumexp}} \\left( \\text{log }\\alpha_{s,T} \\right)$\\\n",
        "> return $\\text{log }p(\\mathbf{x})$\n",
        "________"
      ]
    },
    {
      "cell_type": "markdown",
      "metadata": {
        "id": "g55ik6ZCEiJU"
      },
      "source": [
        "Now that we have a numerically stable version of the forward algorithm, let's implement it in PyTorch. "
      ]
    },
    {
      "cell_type": "markdown",
      "source": [
        "## Forward"
      ],
      "metadata": {
        "id": "XRjDl-6dBUUz"
      }
    },
    {
      "cell_type": "code",
      "metadata": {
        "id": "3CMdK1EfE1SJ"
      },
      "source": [
        "\n",
        "def HMM_forward(self, x, T, save_log_alpha=True):\n",
        "  \"\"\"\n",
        "  x : IntTensor of shape (batch size, T_max)\n",
        "  T : IntTensor of shape (batch size)\n",
        "\n",
        "  Compute log p(x) for each example in the batch.\n",
        "  T = length of each example\n",
        "  \"\"\"\n",
        "  if self.is_cuda:\n",
        "  \tx = x.cuda()\n",
        "  \tT = T.cuda()\n",
        "\n",
        "  batch_size = x.shape[0]; T_max = x.shape[1]\n",
        "  #log_state_priors = torch.log(self.unnormalized_state_priors)  # TODO #torch.nn.functional.log_softmax(self.unnormalized_state_priors, dim=0)\n",
        "  #log_state_priors = torch.nn.functional.log_softmax(self.unnormalized_state_priors, dim=0)\n",
        "  log_state_priors = self.log_normalized_state_priors\n",
        "  log_alpha = torch.zeros(batch_size, T_max, self.N) # table (sample, t, state) containing log probability of observations from sample to time t and being in state (in time t)\n",
        "  if self.is_cuda: log_alpha = log_alpha.cuda()\n",
        "\n",
        "  #print(log_state_priors)\n",
        "  log_alpha[:, 0, :] = self.emission_model(x[:,0]) + log_state_priors # emission_model - log prob for each distr\n",
        "  for t in range(1, T_max):\n",
        "    #print(f\"t={t} \", self.emission_model(x[:,t]), self.transition_model(log_alpha[:, t-1, :]))\n",
        "    log_alpha[:, t, :] = self.emission_model(x[:,t]) + self.transition_model(log_alpha[:, t-1, :])\n",
        "\n",
        "  if save_log_alpha:\n",
        "    self.log_alpha = log_alpha\n",
        "    self.x = x\n",
        "  # Select the sum for the final timestep (each x may have different length).\n",
        "  #print(\"alpha\\n\", log_alpha)\n",
        "  log_sums = log_alpha.logsumexp(dim=2)\n",
        "  #print(\"log_sums\\n\", log_sums)\n",
        "  #log_probs = torch.gather(log_sums, 1, T.view(1,-1))\n",
        "  log_probs = torch.gather(log_sums, 1, T.view(-1,1)-1)\n",
        "  return log_probs\n",
        "\n",
        "def emission_model_forward(self, x_t): ## TODO\n",
        "  #out = self.distributions.log_prob(x_t)\n",
        "  #out = \n",
        "  out  = []\n",
        "  for state in range(self.N):\n",
        "    out.append( self.distributions[state].log_prob(x_t) )\n",
        "  result = torch.stack(out, dim = 1)\n",
        "  #print(\"emission probs\\n\",result)\n",
        "  return result\n",
        "\n",
        "def transition_model_forward(self, log_alpha):\n",
        "  \"\"\"\n",
        "  log_alpha : Tensor of shape (batch size, N)\n",
        "  Multiply previous timestep's alphas by transition matrix (in log domain)\n",
        "  \"\"\"\n",
        "  log_transition_matrix = self.log_normalized_transition_matrix()\n",
        "\n",
        "  # Matrix multiplication in the log domain\n",
        "  out = log_domain_matmul(log_transition_matrix.transpose(0,1), log_alpha.transpose(0,1)).transpose(0,1) # CHECK # original log_transition_matrix\n",
        "  return out\n",
        "\n",
        "def log_domain_matmul(log_A, log_B):\n",
        "\t\"\"\"\n",
        "\tlog_A : m x n\n",
        "\tlog_B : n x p\n",
        "\toutput : m x p matrix\n",
        "\n",
        "\tNormally, a matrix multiplication\n",
        "\tcomputes out_{i,j} = sum_k A_{i,k} x B_{k,j}\n",
        "\n",
        "\tA log domain matrix multiplication\n",
        "\tcomputes out_{i,j} = logsumexp_k log_A_{i,k} + log_B_{k,j}\n",
        "\t\"\"\"\n",
        "\tm = log_A.shape[0]#; print(log_A.shape, log_B.shape)\n",
        "\tn = log_A.shape[1]\n",
        "\tp = log_B.shape[1]\n",
        "    #print(log_A.shape, log_B.shape)\n",
        "    # log_A_expanded = torch.stack([log_A] * p, dim=2)\n",
        "\t# log_B_expanded = torch.stack([log_B] * m, dim=0)\n",
        "    # fix for PyTorch > 1.5 by egaznep on Github:\n",
        "\tlog_A_expanded = torch.reshape(log_A, (m,n,1))#; print(log_A_expanded.shape)\n",
        "\tlog_B_expanded = torch.reshape(log_B, (1,n,p))#; print(log_B_expanded.shape)\n",
        "\n",
        "\telementwise_sum = log_A_expanded + log_B_expanded #; print(\"hello\")\n",
        "\tout = torch.logsumexp(elementwise_sum, dim=1)#;print(out.shape)\n",
        " \n",
        "\treturn out\n",
        "\n",
        "TransitionModel.forward = transition_model_forward\n",
        "EmissionModel.forward = emission_model_forward\n",
        "HMM.forward = HMM_forward"
      ],
      "execution_count": 18,
      "outputs": []
    },
    {
      "cell_type": "markdown",
      "source": [
        "#### Test forward method"
      ],
      "metadata": {
        "id": "K4mnlI8muU6M"
      }
    },
    {
      "cell_type": "code",
      "source": [
        "test_model = HMM(2, [distrib.Normal(-1,1), distrib.Normal(1, 1)])"
      ],
      "metadata": {
        "id": "qPLPQRF-uXid"
      },
      "execution_count": 19,
      "outputs": []
    },
    {
      "cell_type": "code",
      "source": [
        "test_model.transition_model.normalized_transition_matrix()"
      ],
      "metadata": {
        "colab": {
          "base_uri": "https://localhost:8080/"
        },
        "id": "rY1BCXE6GMOt",
        "outputId": "8c6b68c8-a258-4338-a550-e487e3cc54e9"
      },
      "execution_count": 20,
      "outputs": [
        {
          "output_type": "execute_result",
          "data": {
            "text/plain": [
              "tensor([[0.2893, 0.7107],\n",
              "        [0.3376, 0.6624]])"
            ]
          },
          "metadata": {},
          "execution_count": 20
        }
      ]
    },
    {
      "cell_type": "code",
      "source": [
        "x, states = test_model.sample(30)"
      ],
      "metadata": {
        "id": "Xm_JPMKxucOV"
      },
      "execution_count": 21,
      "outputs": []
    },
    {
      "cell_type": "code",
      "source": [
        "#T =torch.Tensor([10,10,10], dtype= torch.int64)\n",
        "T = torch.ones([1,3], dtype=torch.int64)*10\n",
        "T.view(-1, 1)"
      ],
      "metadata": {
        "colab": {
          "base_uri": "https://localhost:8080/"
        },
        "id": "EtSSX_nuvn-L",
        "outputId": "a86e8cc5-093d-4b7f-fb21-650993597bf7"
      },
      "execution_count": 22,
      "outputs": [
        {
          "output_type": "execute_result",
          "data": {
            "text/plain": [
              "tensor([[10],\n",
              "        [10],\n",
              "        [10]])"
            ]
          },
          "metadata": {},
          "execution_count": 22
        }
      ]
    },
    {
      "cell_type": "code",
      "source": [
        "test_model(torch.reshape(x, (3, 10)), T)"
      ],
      "metadata": {
        "colab": {
          "base_uri": "https://localhost:8080/"
        },
        "id": "jaBm7pbou8d2",
        "outputId": "0f71446b-f6b7-4013-e372-4e78a9004495"
      },
      "execution_count": 23,
      "outputs": [
        {
          "output_type": "execute_result",
          "data": {
            "text/plain": [
              "tensor([[-17.4672],\n",
              "        [-13.7889],\n",
              "        [-14.6965]])"
            ]
          },
          "metadata": {},
          "execution_count": 23
        }
      ]
    },
    {
      "cell_type": "markdown",
      "metadata": {
        "id": "bxivzF8hgpiW"
      },
      "source": [
        "### Problem 2: How do we compute $\\underset{\\mathbf{z}}{\\text{argmax }} p(\\mathbf{z}|\\mathbf{x})$?"
      ]
    },
    {
      "cell_type": "markdown",
      "metadata": {
        "id": "niKZEX5xWeWR"
      },
      "source": [
        "________\n",
        "\n",
        "<u><b>The Viterbi Algorithm</b></u>\n",
        "\n",
        "> for $s=1 \\rightarrow N$:\\\n",
        "> &nbsp;&nbsp;&nbsp;&nbsp;&nbsp;&nbsp;$\\delta_{s,1} := b_s(x_1) \\cdot \\pi_s$\\\n",
        "> &nbsp;&nbsp;&nbsp;&nbsp;&nbsp;&nbsp;$\\psi_{s,1} := 0$\n",
        ">\n",
        "> for $t = 2 \\rightarrow T$:\\\n",
        "> &nbsp;&nbsp;&nbsp;&nbsp;&nbsp;&nbsp;for $s = 1 \\rightarrow N$:\\\n",
        "> &nbsp;&nbsp;&nbsp;&nbsp;&nbsp;&nbsp;&nbsp;&nbsp;&nbsp;&nbsp;&nbsp;&nbsp;$\\delta_{s,t} := b_s(x_t) \\cdot \\left( \\underset{s'}{\\text{max }} A_{s, s'} \\cdot \\delta_{s',t-1} \\right)$\\\n",
        "&nbsp;&nbsp;&nbsp;&nbsp;&nbsp;&nbsp;&nbsp;&nbsp;&nbsp;&nbsp;&nbsp;&nbsp;$\\psi_{s,t} := \\underset{s'}{\\text{argmax }} A_{s, s'} \\cdot \\delta_{s',t-1}$\n",
        "> \n",
        "> $z_T^* := \\underset{s}{\\text{argmax }} \\delta_{s,T}$\\\n",
        "> for $t = T-1 \\rightarrow 1$:\\\n",
        "&nbsp;&nbsp;&nbsp;&nbsp;&nbsp;&nbsp;$z_{t}^* := \\psi_{z_{t+1}^*,t+1}$\n",
        "> \n",
        "> $\\mathbf{z}^* := \\{z_{1}^*, \\dots, z_{T}^* \\}$\\\n",
        "return $\\mathbf{z}^*$\n",
        "________"
      ]
    },
    {
      "cell_type": "markdown",
      "metadata": {
        "id": "UcHVTCucZV6K"
      },
      "source": [
        "The Viterbi algorithm looks somewhat gnarlier than the forward algorithm, but it is essentially the same algorithm, with two tweaks: 1) instead of taking the sum over previous states, we take the max; and 2) we record the argmax of the previous states in a table, and loop back over this table at the end to get $\\mathbf{z}^*$, the most likely state sequence. (And like the forward algorithm, we should run the Viterbi algorithm in the log domain for better numerical stability.) "
      ]
    },
    {
      "cell_type": "markdown",
      "metadata": {
        "id": "NlN7IY_JZ5A-"
      },
      "source": [
        "Let's add the Viterbi algorithm to our PyTorch model:"
      ]
    },
    {
      "cell_type": "markdown",
      "source": [
        "## Viterbi"
      ],
      "metadata": {
        "id": "Nh2VayO6Bbi0"
      }
    },
    {
      "cell_type": "code",
      "metadata": {
        "id": "qeDG8DVmZ-P0"
      },
      "source": [
        "def viterbi(self, x, T):\n",
        "  \"\"\"\n",
        "  x : IntTensor of shape (batch size, T_max)\n",
        "  T : IntTensor of shape (batch size)\n",
        "  Find argmax_z log p(x|z) for each (x) in the batch.\n",
        "  \"\"\"\n",
        "  if self.is_cuda:\n",
        "    x = x.cuda()\n",
        "    T = T.cuda()\n",
        "\n",
        "  batch_size = x.shape[0]; T_max = x.shape[1]\n",
        "  log_state_priors = self.log_normalized_state_priors#torch.nn.functional.log_softmax(self.unnormalized_state_priors, dim=0)\n",
        "  log_delta = torch.zeros(batch_size, T_max, self.N).float()\n",
        "  psi = torch.zeros(batch_size, T_max, self.N).long()\n",
        "  if self.is_cuda:\n",
        "    log_delta = log_delta.cuda()\n",
        "    psi = psi.cuda()\n",
        "\n",
        "  log_delta[:, 0, :] = self.emission_model(x[:,0]) + log_state_priors\n",
        "  for t in range(1, T_max):\n",
        "    max_val, argmax_val = self.transition_model.maxmul(log_delta[:, t-1, :])\n",
        "    log_delta[:, t, :] = self.emission_model(x[:,t]) + max_val\n",
        "    psi[:, t, :] = argmax_val\n",
        "\n",
        "  # Get the log probability of the best path\n",
        "  log_max = log_delta.max(dim=2)[0]\n",
        "  best_path_scores = torch.gather(log_max, 1, T.view(-1,1) - 1)\n",
        "\n",
        "  # This next part is a bit tricky to parallelize across the batch,\n",
        "  # so we will do it separately for each example.\n",
        "  z_star = []\n",
        "  for i in range(0, batch_size):\n",
        "    z_star_i = [ log_delta[i, T[i] - 1, :].max(dim=0)[1].item() ]\n",
        "    for t in range(T[i] - 1, 0, -1):\n",
        "      z_t = psi[i, t, z_star_i[0]].item()\n",
        "      z_star_i.insert(0, z_t)\n",
        "\n",
        "    z_star.append(z_star_i)\n",
        "\n",
        "  return z_star, best_path_scores # return both the best path and its log probability\n",
        "\n",
        "def transition_model_maxmul(self, log_alpha):\n",
        "  log_transition_matrix = self.log_normalized_transition_matrix()#torch.nn.functional.log_softmax(self.unnormalized_transition_matrix, dim=0)\n",
        "\n",
        "  out1, out2 = maxmul(log_transition_matrix.transpose(0,1), log_alpha.transpose(0,1)) # CHECK # original log_transition_matrix\n",
        "  return out1.transpose(0,1), out2.transpose(0,1)\n",
        "\n",
        "def maxmul(log_A, log_B):\n",
        "\t\"\"\"\n",
        "\tlog_A : m x n\n",
        "\tlog_B : n x p\n",
        "\toutput : m x p matrix\n",
        "\n",
        "\tSimilar to the log domain matrix multiplication,\n",
        "\tthis computes out_{i,j} = max_k log_A_{i,k} + log_B_{k,j}\n",
        "\t\"\"\"\n",
        "\tm = log_A.shape[0]\n",
        "\tn = log_A.shape[1]\n",
        "\tp = log_B.shape[1]\n",
        "\n",
        "\tlog_A_expanded = torch.stack([log_A] * p, dim=2)\n",
        "\tlog_B_expanded = torch.stack([log_B] * m, dim=0)\n",
        "\n",
        "\telementwise_sum = log_A_expanded + log_B_expanded\n",
        "\tout1,out2 = torch.max(elementwise_sum, dim=1)\n",
        "\n",
        "\treturn out1,out2\n",
        "\n",
        "TransitionModel.maxmul = transition_model_maxmul\n",
        "HMM.viterbi = viterbi"
      ],
      "execution_count": 24,
      "outputs": []
    },
    {
      "cell_type": "markdown",
      "source": [
        "### Test viterbi"
      ],
      "metadata": {
        "id": "ddLYM5OH8IzJ"
      }
    },
    {
      "cell_type": "code",
      "source": [
        "test_model = HMM(2, [distrib.Normal(-1,1), distrib.Normal(1, 1)])"
      ],
      "metadata": {
        "id": "OLPEYOgY8FZO"
      },
      "execution_count": 25,
      "outputs": []
    },
    {
      "cell_type": "code",
      "source": [
        "x, states = test_model.sample(10)"
      ],
      "metadata": {
        "id": "G0fI_4vX8QPZ"
      },
      "execution_count": 26,
      "outputs": []
    },
    {
      "cell_type": "code",
      "source": [
        "x, states"
      ],
      "metadata": {
        "colab": {
          "base_uri": "https://localhost:8080/"
        },
        "id": "Cgx_mORFC9na",
        "outputId": "2e8da13a-3e6a-4ce5-85d5-59cd628331c6"
      },
      "execution_count": 27,
      "outputs": [
        {
          "output_type": "execute_result",
          "data": {
            "text/plain": [
              "(tensor([ 0.5706,  1.1633, -2.8348,  0.6107,  1.1169, -1.5652,  0.6840,  1.0202,\n",
              "         -1.0780,  2.4471]), [0, 1, 0, 1, 1, 0, 1, 1, 1, 1])"
            ]
          },
          "metadata": {},
          "execution_count": 27
        }
      ]
    },
    {
      "cell_type": "code",
      "source": [
        "T = torch.ones([1], dtype=torch.int64)*10\n"
      ],
      "metadata": {
        "id": "wJkumbFN8U25"
      },
      "execution_count": 28,
      "outputs": []
    },
    {
      "cell_type": "code",
      "source": [
        "viterbi_results = test_model.viterbi(torch.reshape(x, (1, 10)), T)"
      ],
      "metadata": {
        "id": "DBxpXgvbDHvU"
      },
      "execution_count": 29,
      "outputs": []
    },
    {
      "cell_type": "code",
      "source": [
        "viterbi_results"
      ],
      "metadata": {
        "colab": {
          "base_uri": "https://localhost:8080/"
        },
        "id": "NvOSLuk6DmKD",
        "outputId": "6d9379cc-7ecd-4ab5-d4de-17276bdb8156"
      },
      "execution_count": 30,
      "outputs": [
        {
          "output_type": "execute_result",
          "data": {
            "text/plain": [
              "([[1, 1, 0, 1, 1, 0, 1, 1, 0, 1]], tensor([[-17.9896]]))"
            ]
          },
          "metadata": {},
          "execution_count": 30
        }
      ]
    },
    {
      "cell_type": "code",
      "source": [
        "test_model.forward(torch.reshape(x, (1, 10)), T)"
      ],
      "metadata": {
        "colab": {
          "base_uri": "https://localhost:8080/"
        },
        "id": "rS7w6yLLEKYt",
        "outputId": "cea908c5-68f8-47fd-aa02-5256d685d10d"
      },
      "execution_count": 31,
      "outputs": [
        {
          "output_type": "execute_result",
          "data": {
            "text/plain": [
              "tensor([[-17.0662]])"
            ]
          },
          "metadata": {},
          "execution_count": 31
        }
      ]
    },
    {
      "cell_type": "code",
      "source": [
        "states"
      ],
      "metadata": {
        "colab": {
          "base_uri": "https://localhost:8080/"
        },
        "id": "0H1tpPT7DpKO",
        "outputId": "bb3362e9-cbbb-4223-b742-b9cf2247a539"
      },
      "execution_count": 32,
      "outputs": [
        {
          "output_type": "execute_result",
          "data": {
            "text/plain": [
              "[0, 1, 0, 1, 1, 0, 1, 1, 1, 1]"
            ]
          },
          "metadata": {},
          "execution_count": 32
        }
      ]
    },
    {
      "cell_type": "markdown",
      "metadata": {
        "id": "InF6PJVOfHwH"
      },
      "source": [
        "The two scores are the same! That's because in this instance there is only one possible path through the HMM, so the probability of the most likely path is the same as the sum of the probabilities of all possible paths.\n",
        "\n",
        "In general, though, the forward score and Viterbi score will always be somewhat close. This is because of a property of the $\\text{logsumexp}$ function: $\\text{logsumexp}(\\mathbf{x}) \\approx \\max (\\mathbf{x})$. ($\\text{logsumexp}$ is sometimes referred to as the \"smooth maximum\" function.)"
      ]
    },
    {
      "cell_type": "code",
      "metadata": {
        "id": "x__70tB6gnkF",
        "colab": {
          "base_uri": "https://localhost:8080/"
        },
        "outputId": "034513a8-8799-4f37-e20c-5c8232250ac2"
      },
      "source": [
        "x = torch.tensor([1., 2., 3.])\n",
        "print(x.max(dim=0)[0])\n",
        "print(x.logsumexp(dim=0))"
      ],
      "execution_count": 33,
      "outputs": [
        {
          "output_type": "stream",
          "name": "stdout",
          "text": [
            "tensor(3.)\n",
            "tensor(3.4076)\n"
          ]
        }
      ]
    },
    {
      "cell_type": "markdown",
      "metadata": {
        "id": "SvFtiWhzgy0V"
      },
      "source": [
        "### Problem 3: How do we train the model?\n",
        "\n",
        "\n",
        "\n"
      ]
    },
    {
      "cell_type": "markdown",
      "source": [
        "## Backward"
      ],
      "metadata": {
        "id": "aaYiIO8AgCLs"
      }
    },
    {
      "cell_type": "code",
      "source": [
        "def HMM_backward(self, x, T, save_log_beta=True):\n",
        "  \"\"\"\n",
        "  x : IntTensor of shape (batch size, T_max)\n",
        "  T : IntTensor of shape (batch size)\n",
        "\n",
        "  Compute backward log p(x) for each example in the batch.\n",
        "  T = length of each example\n",
        "  \"\"\"\n",
        "  if self.is_cuda:\n",
        "  \tx = x.cuda()\n",
        "  \tT = T.cuda()\n",
        "\n",
        "  batch_size = x.shape[0]; T_max = x.shape[1] - 1\n",
        "  gather_indexes = torch.zeros((batch_size,1), dtype=torch.int64)\n",
        "  if self.is_cuda:\n",
        "    gather_indexes = gather_indexes.cuda()\n",
        "  #log_state_priors = torch.nn.functional.log_softmax(self.unnormalized_state_priors, dim=0)\n",
        "  log_beta = torch.zeros(batch_size, T_max+1, self.N) # table (sample, t, state) containing log probability of observations from sample from time t+1 to T_max and being in state (in time t)\n",
        "  if self.is_cuda: log_beta = log_beta.cuda()\n",
        "\n",
        "  log_transition_matrix = self.transition_model.log_normalized_transition_matrix() #torch.nn.functional.log_softmax(self.transition_model.unnormalized_transition_matrix, dim=0)\n",
        "\n",
        "  log_beta[:, T_max, :] = 0 #1 #self.emission_model(x[:,0]) + log_state_priors # emission_model - log prob for each distr\n",
        "  for t in range(T_max-1, 0-1, -1):\n",
        "    suma = (self.emission_model(x[:,t+1])+log_beta[:, t+1, :]).transpose(1,0)\n",
        "    #print(suma.shape)\n",
        "    #suma = suma.unsqueeze(1)\n",
        "    #print(suma.shape)\n",
        "    out = log_domain_matmul(log_transition_matrix, suma).transpose(1,0)# CHECK # original log_transition_matrix\n",
        "    #print(out.shape, log_beta[:, t, :].shape)\n",
        "    log_beta[:, t, :] = out\n",
        "\n",
        "  if save_log_beta:\n",
        "    self.log_beta = log_beta\n",
        "    self.x = x\n",
        "\n",
        "  log_state_priors = torch.nn.functional.log_softmax(self.unnormalized_state_priors, dim=0)\n",
        "  termination = self.emission_model(x[:,0]) + log_state_priors + log_beta[:, 0, :]\n",
        "\n",
        "  log_sums = log_beta.logsumexp(dim=2)\n",
        "  #print(\"log_sums\\n\", log_sums)\n",
        "  #log_probs = torch.gather(log_sums, 1, T.view(1,-1))\n",
        "  #log_probs = torch.gather(log_sums, 1, gather_indexes)\n",
        "  log_probs = termination.logsumexp(dim=1)\n",
        "  return log_probs\n",
        "\n",
        "# def transition_model_backward(self, log_beta):\n",
        "#   \"\"\"\n",
        "#   log_alpha : Tensor of shape (batch size, N)\n",
        "#   Multiply previous timestep's alphas by transition matrix (in log domain)\n",
        "#   \"\"\"\n",
        "#   log_transition_matrix = torch.nn.functional.log_softmax(self.unnormalized_transition_matrix, dim=0)\n",
        "\n",
        "#   # Matrix multiplication in the log domain\n",
        "#   #out = log_domain_matmul(log_transition_matrix, log_alpha.transpose(0,1)).transpose(0,1)\n",
        "#   out = log_domain_matmul(log_transition_matrix.transpose(0,1), log_beta.transpose(0,1)).transpose(0,1)\n",
        "#   return out\n",
        "\n",
        "#TransitionModel.back = transition_model_backward\n",
        "HMM.back = HMM_backward\n"
      ],
      "metadata": {
        "id": "Oef1rllHhFRp"
      },
      "execution_count": 34,
      "outputs": []
    },
    {
      "cell_type": "code",
      "source": [
        "#test_model = HMM(2, [distrib.Normal(-1,1), distrib.Normal(1, 1)])\n",
        "test_model = HMM(2, [distrib.MultivariateNormal(torch.zeros(2),torch.eye(2)), distrib.MultivariateNormal(torch.ones(2)*5,torch.eye(2))])"
      ],
      "metadata": {
        "id": "OJ-JENA0QaLc"
      },
      "execution_count": 35,
      "outputs": []
    },
    {
      "cell_type": "code",
      "source": [
        "sequence_length, n_of_sequences, sample_dim = 50, 3, 2"
      ],
      "metadata": {
        "id": "feu7VH6x-mAq"
      },
      "execution_count": 36,
      "outputs": []
    },
    {
      "cell_type": "code",
      "source": [
        "x, states = test_model.sample(sequence_length*n_of_sequences)"
      ],
      "metadata": {
        "id": "_TVMkxUpRWj_"
      },
      "execution_count": 37,
      "outputs": []
    },
    {
      "cell_type": "code",
      "source": [
        "test_model.transition_model.normalized_transition_matrix()"
      ],
      "metadata": {
        "colab": {
          "base_uri": "https://localhost:8080/"
        },
        "id": "baO_EME992y2",
        "outputId": "c5957dc2-b280-4c5c-b20d-7d39e078773d"
      },
      "execution_count": 38,
      "outputs": [
        {
          "output_type": "execute_result",
          "data": {
            "text/plain": [
              "tensor([[0.9742, 0.0258],\n",
              "        [0.3597, 0.6403]])"
            ]
          },
          "metadata": {},
          "execution_count": 38
        }
      ]
    },
    {
      "cell_type": "code",
      "source": [
        "#T =torch.Tensor([10,10,10], dtype= torch.int64)\n",
        "T = torch.ones([n_of_sequences,1], dtype=torch.int64)*sequence_length\n",
        "T.view(-1, 1)"
      ],
      "metadata": {
        "colab": {
          "base_uri": "https://localhost:8080/"
        },
        "id": "UdpQj4ZpRZSe",
        "outputId": "ce5f00ec-ab86-49f0-922c-7bd71ea3e9c2"
      },
      "execution_count": 39,
      "outputs": [
        {
          "output_type": "execute_result",
          "data": {
            "text/plain": [
              "tensor([[50],\n",
              "        [50],\n",
              "        [50]])"
            ]
          },
          "metadata": {},
          "execution_count": 39
        }
      ]
    },
    {
      "cell_type": "code",
      "source": [
        "test_model(torch.reshape(x, (n_of_sequences, sequence_length, sample_dim)), T)"
      ],
      "metadata": {
        "colab": {
          "base_uri": "https://localhost:8080/"
        },
        "id": "hh8th1MWRba2",
        "outputId": "9c7b7870-3747-45d5-bb17-5a9f48f1281f"
      },
      "execution_count": 40,
      "outputs": [
        {
          "output_type": "execute_result",
          "data": {
            "text/plain": [
              "tensor([[-133.8017],\n",
              "        [-154.6518],\n",
              "        [-132.3757]])"
            ]
          },
          "metadata": {},
          "execution_count": 40
        }
      ]
    },
    {
      "cell_type": "code",
      "source": [
        "test_model.back(torch.reshape(x, (n_of_sequences, sequence_length, sample_dim)), T)"
      ],
      "metadata": {
        "colab": {
          "base_uri": "https://localhost:8080/"
        },
        "id": "DQq71SzLRdTW",
        "outputId": "fc9568f7-80c0-43fe-a391-5395824c7197"
      },
      "execution_count": 41,
      "outputs": [
        {
          "output_type": "execute_result",
          "data": {
            "text/plain": [
              "tensor([-133.8017, -154.6519, -132.3757])"
            ]
          },
          "metadata": {},
          "execution_count": 41
        }
      ]
    },
    {
      "cell_type": "markdown",
      "source": [
        "## Forward - Backward"
      ],
      "metadata": {
        "id": "1x5_xiDyBqk2"
      }
    },
    {
      "cell_type": "code",
      "source": [
        "def forward_backward_step(self, x, T):\n",
        "    T_max=10\n",
        "    forward_result = self.forward(x, T, save_log_alpha=True)\n",
        "    backward_result = self.back(x, T, save_log_beta=True)\n",
        "    #log_beta and alpha have shape: (batch_size, T_max, self.N)\n",
        "    denominator_sum = (self.log_alpha+self.log_beta).logsumexp(dim=2)[:, 0:T_max-1]\n",
        "    log_alpha = self.log_alpha[:, 0:(T_max-1),:].unsqueeze(3)\n",
        "    log_beta = self.log_beta[:, 1:T_max, :].unsqueeze(2)\n",
        "    log_b = self.emission_model(x)\n",
        "    #print(log_b.shape)\n",
        "    log_b = log_b.transpose(1,2)[:, 1:T_max, :].unsqueeze(2)\n",
        "    log_transition_matrix = self.transition_model.log_normalized_transition_matrix()#torch.nn.functional.log_softmax(self.transition_model.unnormalized_transition_matrix, dim=0).unsqueeze(0).unsqueeze(1)\n",
        "    #print(log_transition_matrix.shape, log_b.shape, log_transition_matrix.shape, log_alpha.shape)\n",
        "\n",
        "    nominator = log_alpha+log_transition_matrix+log_beta+log_b # CHECK\n",
        "    #print(nominator.shape)\n",
        "    log_ksi = nominator - denominator_sum[:, 0:T_max-1].unsqueeze(2).unsqueeze(3)\n",
        "    \n",
        "\n",
        "    approx_log_A = log_ksi.logsumexp(dim=(0,1)) \n",
        "    approx_log_A = approx_log_A - log_ksi.logsumexp(dim=(0,1,3)).unsqueeze(1)\n",
        "    approx_A = torch.exp(approx_log_A)#.transpose(0,1)#### Czy chcemy ten transpose CHECK originaly no transpose\n",
        "    self.transition_model.unnormalized_transition_matrix = approx_A\n",
        "\n",
        "    return approx_A\n",
        "\n",
        "\n",
        "HMM.forward_backward_step = forward_backward_step"
      ],
      "metadata": {
        "id": "I8koB5argH3m"
      },
      "execution_count": 42,
      "outputs": []
    },
    {
      "cell_type": "code",
      "source": [
        "test_model.transition_model.unnormalized_transition_matrix "
      ],
      "metadata": {
        "colab": {
          "base_uri": "https://localhost:8080/"
        },
        "id": "2RGJ7Bazc71z",
        "outputId": "c84612e9-9697-4124-f3ae-ec7073ef9225"
      },
      "execution_count": 43,
      "outputs": [
        {
          "output_type": "execute_result",
          "data": {
            "text/plain": [
              "tensor([[0.9742, 0.0258],\n",
              "        [0.3597, 0.6403]])"
            ]
          },
          "metadata": {},
          "execution_count": 43
        }
      ]
    },
    {
      "cell_type": "code",
      "source": [
        "result = test_model.forward_backward_step(torch.reshape(x, (n_of_sequences, sequence_length, sample_dim)), T)\n",
        "result.shape"
      ],
      "metadata": {
        "colab": {
          "base_uri": "https://localhost:8080/"
        },
        "id": "JFStiVNtDjBk",
        "outputId": "28a15800-304b-4850-cbee-d032a2c6ebc6"
      },
      "execution_count": 44,
      "outputs": [
        {
          "output_type": "execute_result",
          "data": {
            "text/plain": [
              "torch.Size([2, 2])"
            ]
          },
          "metadata": {},
          "execution_count": 44
        }
      ]
    },
    {
      "cell_type": "code",
      "source": [
        "result"
      ],
      "metadata": {
        "colab": {
          "base_uri": "https://localhost:8080/"
        },
        "id": "0h8He6pLb_T6",
        "outputId": "4791944f-0a4e-46f0-98a9-d6d5b5067de2"
      },
      "execution_count": 45,
      "outputs": [
        {
          "output_type": "execute_result",
          "data": {
            "text/plain": [
              "tensor([[1.0000e+00, 1.6484e-08],\n",
              "        [3.3333e-01, 6.6667e-01]])"
            ]
          },
          "metadata": {},
          "execution_count": 45
        }
      ]
    },
    {
      "cell_type": "code",
      "source": [
        "test_model.transition_model.unnormalized_transition_matrix"
      ],
      "metadata": {
        "colab": {
          "base_uri": "https://localhost:8080/"
        },
        "id": "IDwddPqHcPaK",
        "outputId": "6230c8c5-fb75-4cd0-c345-bd353e222d46"
      },
      "execution_count": 46,
      "outputs": [
        {
          "output_type": "execute_result",
          "data": {
            "text/plain": [
              "tensor([[1.0000e+00, 1.6484e-08],\n",
              "        [3.3333e-01, 6.6667e-01]])"
            ]
          },
          "metadata": {},
          "execution_count": 46
        }
      ]
    },
    {
      "cell_type": "code",
      "source": [
        "for i in range(10):\n",
        "    result = test_model.forward_backward_step(torch.reshape(x, (n_of_sequences, sequence_length, sample_dim)), T)\n",
        "    print(result)\n"
      ],
      "metadata": {
        "colab": {
          "base_uri": "https://localhost:8080/"
        },
        "id": "Jtc3xloZcynf",
        "outputId": "f9417770-17c5-4765-8ad4-ecf47235da81"
      },
      "execution_count": 47,
      "outputs": [
        {
          "output_type": "stream",
          "name": "stdout",
          "text": [
            "tensor([[1.0000e+00, 9.2803e-15],\n",
            "        [3.3333e-01, 6.6667e-01]])\n",
            "tensor([[1.0000e+00, 5.2248e-21],\n",
            "        [3.3333e-01, 6.6667e-01]])\n",
            "tensor([[1.0000e+00, 2.9416e-27],\n",
            "        [3.3333e-01, 6.6667e-01]])\n",
            "tensor([[1.0000e+00, 1.6561e-33],\n",
            "        [3.3333e-01, 6.6667e-01]])\n",
            "tensor([[1.0000e+00, 9.3240e-40],\n",
            "        [3.3333e-01, 6.6667e-01]])\n",
            "tensor([[1.0000, 0.0000],\n",
            "        [0.3333, 0.6667]])\n",
            "tensor([[1.0000, 0.0000],\n",
            "        [0.3333, 0.6667]])\n",
            "tensor([[1.0000, 0.0000],\n",
            "        [0.3333, 0.6667]])\n",
            "tensor([[1.0000, 0.0000],\n",
            "        [0.3333, 0.6667]])\n",
            "tensor([[1.0000, 0.0000],\n",
            "        [0.3333, 0.6667]])\n"
          ]
        }
      ]
    },
    {
      "cell_type": "code",
      "source": [
        "result"
      ],
      "metadata": {
        "colab": {
          "base_uri": "https://localhost:8080/"
        },
        "id": "g8dXAia3c0k3",
        "outputId": "35c5d23c-b6b1-4de7-9f99-441d83da702b"
      },
      "execution_count": 48,
      "outputs": [
        {
          "output_type": "execute_result",
          "data": {
            "text/plain": [
              "tensor([[1.0000, 0.0000],\n",
              "        [0.3333, 0.6667]])"
            ]
          },
          "metadata": {},
          "execution_count": 48
        }
      ]
    },
    {
      "cell_type": "markdown",
      "source": [
        "### Test of optimization of matrix"
      ],
      "metadata": {
        "id": "69z2WR1CSi7T"
      }
    },
    {
      "cell_type": "code",
      "source": [
        "\n",
        "\n",
        "device = torch.device('cuda' if torch.cuda.is_available() else 'cpu')\n",
        "\n",
        "class ArtificialDataset(torch.utils.data.Dataset):\n",
        "    def __init__(self, distributions, device, T=1000, sequence_length=100,transition_matrix=None):\n",
        "        self.device = device\n",
        "        self.sequence_length = sequence_length\n",
        "        self.T = T\n",
        "        self.MyHMM = HMM(len(distributions), distributions,transition_matrix=transition_matrix)\n",
        "        self.data_dim = distributions[0].sample().shape[0]\n",
        "        self.generate_sequence()\n",
        "\n",
        "    def generate_sequence(self): # TODO zmienic! - chcemy mieć T sekwencji wygenerowanych za pomocą HMM.sample(self.sequence_length)\n",
        "        \n",
        "        self.train_X = torch.zeros((self.T, self.sequence_length, self.data_dim))\n",
        "        self.train_Z = torch.zeros((self.T, self.sequence_length))\n",
        "        for i in range(self.T):\n",
        "            x, z = self.MyHMM.sample(self.sequence_length)\n",
        "            self.train_X[i, :, :] = x\n",
        "            self.train_Z[i, :] = torch.tensor(z, dtype=torch.int)\n",
        "\n",
        "        self.test_T = int(0.2*self.T)\n",
        "        self.test_X = torch.zeros((self.test_T, self.sequence_length, self.data_dim))\n",
        "        self.test_Z = torch.zeros((self.test_T, self.sequence_length))\n",
        "        for i in range(self.test_T):\n",
        "            x, z = self.MyHMM.sample(self.sequence_length)\n",
        "            self.test_X[i, :, :] = x\n",
        "            self.test_Z[i, :] = torch.tensor(z, dtype=torch.int)\n",
        "\n",
        "    def __len__(self):\n",
        "        return self.T\n",
        "\n",
        "    def __getitem__(self, index):\n",
        "        t = self.train_X[index]\n",
        "        t.to(device)\n",
        "        return t\n",
        "\n"
      ],
      "metadata": {
        "id": "CvokxaEcDuqW"
      },
      "execution_count": 79,
      "outputs": []
    },
    {
      "cell_type": "code",
      "source": [
        "\n",
        "#my_dataset = ArtificialDataset([distrib.Normal(-1,0.1), distrib.Normal(2, 0.1)], device, T=100000)\n",
        "my_dataset = ArtificialDataset(\n",
        "    [distrib.MultivariateNormal(torch.zeros(2),torch.eye(2)), distrib.MultivariateNormal(torch.ones(2)*5,torch.eye(2))],\n",
        "    device, \n",
        "    T=5, sequence_length = 20,\n",
        "    transition_matrix=torch.Tensor([[0.1,0.9], [0.7, 0.3]]))\n",
        "samples = my_dataset[1:len(my_dataset)]"
      ],
      "metadata": {
        "colab": {
          "base_uri": "https://localhost:8080/"
        },
        "id": "UiKQhdkpSSps",
        "outputId": "9a985150-baf1-4d02-b21b-8ee2cf3b96be"
      },
      "execution_count": 80,
      "outputs": [
        {
          "output_type": "stream",
          "name": "stdout",
          "text": [
            "2\n",
            "torch.Size([5, 20, 2])\n"
          ]
        }
      ]
    },
    {
      "cell_type": "code",
      "source": [
        "my_dataset.train_Z"
      ],
      "metadata": {
        "colab": {
          "base_uri": "https://localhost:8080/"
        },
        "id": "TVXuAYgcUM53",
        "outputId": "717f8a6d-ed8f-47e2-b3fa-bdae637ca140"
      },
      "execution_count": 81,
      "outputs": [
        {
          "output_type": "execute_result",
          "data": {
            "text/plain": [
              "tensor([[0., 1., 0., 1., 0., 1., 0., 0., 1., 0., 1., 1., 0., 1., 0., 1., 0., 1.,\n",
              "         1., 0.],\n",
              "        [1., 0., 1., 0., 1., 0., 1., 0., 1., 0., 1., 1., 1., 0., 1., 0., 1., 1.,\n",
              "         0., 1.],\n",
              "        [0., 1., 0., 1., 0., 1., 0., 1., 1., 0., 1., 0., 1., 1., 0., 1., 0., 1.,\n",
              "         0., 1.],\n",
              "        [1., 1., 0., 0., 1., 0., 1., 1., 0., 1., 1., 0., 1., 0., 0., 1., 0., 1.,\n",
              "         0., 1.],\n",
              "        [0., 1., 1., 0., 1., 0., 1., 1., 0., 0., 1., 1., 0., 1., 0., 1., 1., 0.,\n",
              "         1., 0.]])"
            ]
          },
          "metadata": {},
          "execution_count": 81
        }
      ]
    },
    {
      "cell_type": "code",
      "source": [
        "#my_dataset = ArtificialDataset([distrib.Normal(-1,0.1), distrib.Normal(2, 0.1)], device, T=100000)\n",
        "my_dataset = ArtificialDataset(\n",
        "    [distrib.MultivariateNormal(torch.zeros(2),torch.eye(2)), distrib.MultivariateNormal(torch.ones(2)*5,torch.eye(2))],\n",
        "    device, \n",
        "    T=1000,\n",
        "    transition_matrix=torch.Tensor([[0.1,0.9], [0.7, 0.3]]))\n",
        "samples = my_dataset[1:len(my_dataset)]\n",
        "#plt.scatter(samples[:,0], samples[:,1])"
      ],
      "metadata": {
        "id": "0Yukc4ANTf1e",
        "colab": {
          "base_uri": "https://localhost:8080/"
        },
        "outputId": "10122b70-283d-49c9-e475-51f2e9885e7a"
      },
      "execution_count": 83,
      "outputs": [
        {
          "output_type": "stream",
          "name": "stdout",
          "text": [
            "2\n",
            "torch.Size([1000, 100, 2])\n"
          ]
        }
      ]
    },
    {
      "cell_type": "code",
      "source": [
        "my_dataset.MyHMM.transition_model.normalized_transition_matrix()"
      ],
      "metadata": {
        "colab": {
          "base_uri": "https://localhost:8080/"
        },
        "id": "yy2cYUoqUcMM",
        "outputId": "b4a85402-e8d8-442b-a4ac-96481e0d8a99"
      },
      "execution_count": 84,
      "outputs": [
        {
          "output_type": "execute_result",
          "data": {
            "text/plain": [
              "tensor([[0.1000, 0.9000],\n",
              "        [0.7000, 0.3000]])"
            ]
          },
          "metadata": {},
          "execution_count": 84
        }
      ]
    },
    {
      "cell_type": "code",
      "source": [
        "HMM_to_train = HMM(2,[distrib.MultivariateNormal(torch.zeros(2),torch.eye(2)), distrib.MultivariateNormal(torch.ones(2)*5,torch.eye(2))], \n",
        "                   transition_matrix = torch.Tensor([[0.49,0.51],[0.55, 0.45]]))"
      ],
      "metadata": {
        "id": "LtgyIKVtUsuQ"
      },
      "execution_count": 85,
      "outputs": []
    },
    {
      "cell_type": "code",
      "source": [
        "HMM_to_train.transition_model.normalized_transition_matrix()"
      ],
      "metadata": {
        "colab": {
          "base_uri": "https://localhost:8080/"
        },
        "id": "gZwyBxSgVBsb",
        "outputId": "a9de2e2f-a42b-4be9-a9ec-6e06043ed307"
      },
      "execution_count": 86,
      "outputs": [
        {
          "output_type": "execute_result",
          "data": {
            "text/plain": [
              "tensor([[0.4900, 0.5100],\n",
              "        [0.5500, 0.4500]])"
            ]
          },
          "metadata": {},
          "execution_count": 86
        }
      ]
    },
    {
      "cell_type": "code",
      "source": [
        "sequence_length, n_of_sequences, sample_dim = 100, 1000, 2\n",
        "batch_size = 500"
      ],
      "metadata": {
        "id": "2y5bebZWB7Ai"
      },
      "execution_count": 94,
      "outputs": []
    },
    {
      "cell_type": "code",
      "source": [
        "from torch.utils.data import DataLoader\n",
        "# dataset is class inheriting from torch.utils.data.Dataset\n",
        "for epoch in range(10):\n",
        "    #my_dataset.generate_sequence()\n",
        "    dataloader = DataLoader(my_dataset, batch_size= batch_size)\n",
        "    for batch, x in enumerate(dataloader):\n",
        "        #torch.reshape(x, (3, 10)), T\n",
        "        T = torch.ones([batch_size,1], dtype=torch.int64)*my_dataset.sequence_length\n",
        "        HMM_to_train.forward_backward_step(x, T)\n",
        "        print(HMM_to_train.transition_model.normalized_transition_matrix())\n",
        "    if epoch%1==0:\n",
        "        #print(\"NEW\")\n",
        "        print(HMM_to_train.transition_model.normalized_transition_matrix())"
      ],
      "metadata": {
        "colab": {
          "base_uri": "https://localhost:8080/"
        },
        "id": "k3pZZRfXVLOy",
        "outputId": "5577e6f8-9756-4a98-93f7-4b83f6c2f8e3"
      },
      "execution_count": 95,
      "outputs": [
        {
          "output_type": "stream",
          "name": "stdout",
          "text": [
            "tensor([[0.0983, 0.9017],\n",
            "        [0.7082, 0.2918]])\n",
            "tensor([[0.0952, 0.9048],\n",
            "        [0.6832, 0.3168]])\n",
            "tensor([[0.0952, 0.9048],\n",
            "        [0.6832, 0.3168]])\n",
            "tensor([[0.0983, 0.9017],\n",
            "        [0.7082, 0.2918]])\n",
            "tensor([[0.0952, 0.9048],\n",
            "        [0.6832, 0.3168]])\n",
            "tensor([[0.0952, 0.9048],\n",
            "        [0.6832, 0.3168]])\n",
            "tensor([[0.0983, 0.9017],\n",
            "        [0.7082, 0.2918]])\n",
            "tensor([[0.0952, 0.9048],\n",
            "        [0.6832, 0.3168]])\n",
            "tensor([[0.0952, 0.9048],\n",
            "        [0.6832, 0.3168]])\n",
            "tensor([[0.0983, 0.9017],\n",
            "        [0.7082, 0.2918]])\n",
            "tensor([[0.0952, 0.9048],\n",
            "        [0.6832, 0.3168]])\n",
            "tensor([[0.0952, 0.9048],\n",
            "        [0.6832, 0.3168]])\n",
            "tensor([[0.0983, 0.9017],\n",
            "        [0.7082, 0.2918]])\n",
            "tensor([[0.0952, 0.9048],\n",
            "        [0.6832, 0.3168]])\n",
            "tensor([[0.0952, 0.9048],\n",
            "        [0.6832, 0.3168]])\n",
            "tensor([[0.0983, 0.9017],\n",
            "        [0.7082, 0.2918]])\n",
            "tensor([[0.0952, 0.9048],\n",
            "        [0.6832, 0.3168]])\n",
            "tensor([[0.0952, 0.9048],\n",
            "        [0.6832, 0.3168]])\n",
            "tensor([[0.0983, 0.9017],\n",
            "        [0.7082, 0.2918]])\n",
            "tensor([[0.0952, 0.9048],\n",
            "        [0.6832, 0.3168]])\n",
            "tensor([[0.0952, 0.9048],\n",
            "        [0.6832, 0.3168]])\n",
            "tensor([[0.0983, 0.9017],\n",
            "        [0.7082, 0.2918]])\n",
            "tensor([[0.0952, 0.9048],\n",
            "        [0.6832, 0.3168]])\n",
            "tensor([[0.0952, 0.9048],\n",
            "        [0.6832, 0.3168]])\n",
            "tensor([[0.0983, 0.9017],\n",
            "        [0.7082, 0.2918]])\n",
            "tensor([[0.0952, 0.9048],\n",
            "        [0.6832, 0.3168]])\n",
            "tensor([[0.0952, 0.9048],\n",
            "        [0.6832, 0.3168]])\n",
            "tensor([[0.0983, 0.9017],\n",
            "        [0.7082, 0.2918]])\n",
            "tensor([[0.0952, 0.9048],\n",
            "        [0.6832, 0.3168]])\n",
            "tensor([[0.0952, 0.9048],\n",
            "        [0.6832, 0.3168]])\n"
          ]
        }
      ]
    },
    {
      "cell_type": "code",
      "source": [
        "HMM_to_train.transition_model.normalized_transition_matrix()"
      ],
      "metadata": {
        "colab": {
          "base_uri": "https://localhost:8080/"
        },
        "id": "HsuHSukDW9Se",
        "outputId": "7b64af7e-73e8-4b42-f50e-caa460da3cf7"
      },
      "execution_count": 93,
      "outputs": [
        {
          "output_type": "execute_result",
          "data": {
            "text/plain": [
              "tensor([[0.0622, 0.9378],\n",
              "        [0.6737, 0.3263]])"
            ]
          },
          "metadata": {},
          "execution_count": 93
        }
      ]
    },
    {
      "cell_type": "code",
      "source": [
        "samples"
      ],
      "metadata": {
        "id": "qJdwD45IUCWV"
      },
      "execution_count": null,
      "outputs": []
    },
    {
      "cell_type": "markdown",
      "source": [
        "# Test for forward"
      ],
      "metadata": {
        "id": "DnjAQwk9pJPs"
      }
    },
    {
      "cell_type": "code",
      "source": [
        "import torch\n",
        "\n",
        "def create_simple_distr(prob):\n",
        "    #return torch.distributions.bernoulli.Bernoulli(torch.tensor([prob]))\n",
        "    return torch.distributions.Normal(prob, 1)\n",
        "\n",
        "def compute_log_lieklihood():\n",
        "    a_1_0 = 0.5 * prob0\n",
        "    a_1_1 = 0.5 * prob1\n",
        "    a_2_0 = a_1_0 * transition_matrix[0,0] * prob0 + a_1_1 * transition_matrix[1,0] * prob0\n",
        "    a_2_1 = a_1_0 * transition_matrix[0,1] * prob1 + a_1_1 * transition_matrix[1,1] * prob1 \n",
        "    a_3_0 = a_2_0 * transition_matrix[0,0] * prob0 + a_2_1 * transition_matrix[1,0] * prob0\n",
        "    a_3_1 = a_2_0 * transition_matrix[0,1] * prob1 + a_2_1 * transition_matrix[1,1] * prob1\n",
        "    results = [[a_1_0, a_1_1], [a_2_0, a_2_1], [a_3_0, a_3_1]]\n",
        "    print(np.log(a_1_0 * 0.2), np.log(a_1_1 * 0.2) )\n",
        "    print(results)\n",
        "    return np.log(results), np.log(a_3_0 + a_3_1)\n",
        "\n",
        "def compute_log_lieklihood_in_log():\n",
        "    a_1_0 = np.log(0.5) * log_prob_0\n",
        "    a_1_1 = np.log(0.5) * log_prob_1\n",
        "    a_2_0 = np.log(np.exp(a_1_0 + np.log(transition_matrix[0,0]) + log_prob_0) + np.exp(a_1_1 + np.log(transition_matrix[0,1]) + log_prob_1))\n",
        "    a_2_1 = np.log(np.exp(a_1_0 + np.log(transition_matrix[1,0]) + log_prob_0) + np.exp(a_1_1 + np.log(transition_matrix[1,1]) + log_prob_1))\n",
        "    a_3_0 = np.log(np.exp(a_2_0 + np.log(transition_matrix[0,0]) + log_prob_0) + np.exp(a_2_1 + np.log(transition_matrix[1,1]) + log_prob_1))\n",
        "\n",
        "    a_3_0 = a_2_0 * transition_matrix[0,0] * prob0 + a_2_1 * transition_matrix[0,1] * prob1\n",
        "    a_3_1 = a_2_0 * 0.8 * transition_matrix[1,0] + a_2_1 * 0.8 * transition_matrix[1,1]\n",
        "    results = [[a_1_0, a_1_1], [a_2_0, a_2_1], [a_3_0, a_3_1]]\n",
        "    return results, np.log(np.exp(a_3_0) + np.exp(a_3_1))\n",
        "\n",
        "transition_matrix = torch.tensor([[0.2,0.8], [0.2,0.8]])\n",
        "initial_distr = torch.tensor([0.5, 0.5])\n",
        "\n",
        "#prob0 = 0.1 # 10% chance for 1, otherwise 0\n",
        "#prob1 = 0.9\n",
        "observations = torch.tensor([[1, 1, 1]])\n",
        "#d_0 = create_simple_distr(prob0)\n",
        "#d_1 = create_simple_distr(prob1)\n",
        "mu_0, mu_1 = 0,1\n",
        "d_0 = create_simple_distr(mu_0)\n",
        "d_1 = create_simple_distr(mu_1)\n",
        "log_prob_0 = d_0.log_prob(torch.tensor(1))\n",
        "log_prob_1 = d_1.log_prob(torch.tensor(1))\n",
        "prob0 = torch.exp(d_0.log_prob(torch.tensor(1)))\n",
        "prob1 = torch.exp(d_1.log_prob(torch.tensor(1)))\n",
        "\n",
        "\n",
        "\n",
        "\n",
        "# data for HMM\n",
        "observations = torch.tensor([[1, 1, 1]], dtype=torch.int64)\n",
        "#transition_matrix = torch.tensor([[0.2, 0.8], [0.2, 0.8]])#torch.tensor([[0.2,0.2], [0.8,0.8]])\n",
        "#initial_distr = torch.tensor([0.5, 0.5])\n",
        "distributions = [d_0,d_1]\n",
        "\n",
        "# TO DO\n",
        "hmm = HMM(2, distributions, transition_matrix=transition_matrix)\n",
        "\n"
      ],
      "metadata": {
        "id": "35ZGEAfhpLai"
      },
      "execution_count": null,
      "outputs": []
    },
    {
      "cell_type": "code",
      "source": [
        "torch.set_printoptions(precision=8)"
      ],
      "metadata": {
        "id": "8W6V1OvydNBh"
      },
      "execution_count": null,
      "outputs": []
    },
    {
      "cell_type": "code",
      "source": [
        "torch.exp(d_0.log_prob(torch.tensor(0)))"
      ],
      "metadata": {
        "id": "HcjhAqRfaLeL"
      },
      "execution_count": null,
      "outputs": []
    },
    {
      "cell_type": "code",
      "source": [
        "torch.exp(d_0.log_prob(torch.tensor(1)))"
      ],
      "metadata": {
        "id": "ENqaiaYNad-J"
      },
      "execution_count": null,
      "outputs": []
    },
    {
      "cell_type": "code",
      "source": [
        "torch.exp(d_0.log_prob(observations))"
      ],
      "metadata": {
        "id": "50UIJ2AYamNC"
      },
      "execution_count": null,
      "outputs": []
    },
    {
      "cell_type": "code",
      "source": [
        "torch.exp(d_1.log_prob(observations))"
      ],
      "metadata": {
        "id": "xj4E1418N3SR"
      },
      "execution_count": null,
      "outputs": []
    },
    {
      "cell_type": "code",
      "source": [
        "d_0.log_prob(observations), d_1.log_prob(observations)"
      ],
      "metadata": {
        "id": "peMJl0pUd5jn"
      },
      "execution_count": null,
      "outputs": []
    },
    {
      "cell_type": "code",
      "source": [
        "torch.log(transition_matrix)"
      ],
      "metadata": {
        "id": "j2jf0OfGeJVI"
      },
      "execution_count": null,
      "outputs": []
    },
    {
      "cell_type": "code",
      "source": [
        "torch.ones([1,1], dtype=torch.int64)*3"
      ],
      "metadata": {
        "id": "fCOCEjkTNZTi"
      },
      "execution_count": null,
      "outputs": []
    },
    {
      "cell_type": "code",
      "source": [
        "torch.log(initial_distr)"
      ],
      "metadata": {
        "id": "5XvXILF7feU0"
      },
      "execution_count": null,
      "outputs": []
    },
    {
      "cell_type": "code",
      "source": [
        "hmm.transition_model.unnormalized_transition_matrix"
      ],
      "metadata": {
        "id": "sgilr1UTgs1H"
      },
      "execution_count": null,
      "outputs": []
    },
    {
      "cell_type": "code",
      "source": [
        "hmm(observations, torch.tensor([[3]]))"
      ],
      "metadata": {
        "id": "AHV-fgSzM1sb"
      },
      "execution_count": null,
      "outputs": []
    },
    {
      "cell_type": "code",
      "source": [
        "torch.exp(hmm.log_alpha)"
      ],
      "metadata": {
        "id": "iGwlp0cuZQGs"
      },
      "execution_count": null,
      "outputs": []
    },
    {
      "cell_type": "code",
      "source": [
        "target_result = compute_log_lieklihood()\n",
        "target_result"
      ],
      "metadata": {
        "id": "8mBqfAgALwwt"
      },
      "execution_count": null,
      "outputs": []
    },
    {
      "cell_type": "code",
      "source": [
        "hmm.back(observations, torch.tensor([[3]]))"
      ],
      "metadata": {
        "id": "K0nvaF24NIlR"
      },
      "execution_count": null,
      "outputs": []
    },
    {
      "cell_type": "code",
      "source": [
        "hmm.log_alpha"
      ],
      "metadata": {
        "id": "Ol4NkjdLbZYX"
      },
      "execution_count": null,
      "outputs": []
    },
    {
      "cell_type": "code",
      "source": [
        "assert torch.allclose(torch.tensor([[compute_log_lieklihood()[1]]]), hmm(observations, torch.tensor([[3]], dtype=torch.int64)))"
      ],
      "metadata": {
        "id": "egpbI1VSLgmC"
      },
      "execution_count": null,
      "outputs": []
    },
    {
      "cell_type": "code",
      "source": [
        ""
      ],
      "metadata": {
        "id": "D5uWNooLLrKI"
      },
      "execution_count": null,
      "outputs": []
    }
  ]
}