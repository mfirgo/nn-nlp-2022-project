{
  "nbformat": 4,
  "nbformat_minor": 0,
  "metadata": {
    "colab": {
      "name": "Copy of HMM.ipynb",
      "provenance": [],
      "collapsed_sections": []
    },
    "kernelspec": {
      "name": "python3",
      "display_name": "Python 3"
    },
    "accelerator": "GPU"
  },
  "cells": [
    {
      "cell_type": "markdown",
      "metadata": {
        "id": "lDJIV2EVBuFZ"
      },
      "source": [
        "# Fun with Hidden Markov Models\n",
        "*by Loren Lugosch*"
      ]
    },
    {
      "cell_type": "markdown",
      "metadata": {
        "id": "_rWFkdjYOlk8"
      },
      "source": [
        "This notebook introduces the Hidden Markov Model (HMM), a simple model for sequential data.\n",
        "\n",
        "We will see:\n",
        "- what an HMM is and when you might want to use it;\n",
        "- the so-called \"three problems\" of an HMM; and \n",
        "- how to implement an HMM in PyTorch.\n",
        "\n",
        "(The code in this notebook can also be found at https://github.com/lorenlugosch/pytorch_HMM.)"
      ]
    },
    {
      "cell_type": "markdown",
      "metadata": {
        "id": "k4g7IG7CBx-Y"
      },
      "source": [
        "## The HMM setup\n",
        "\n",
        "The hypothetical scenario of the friend travelling between cities and sending you selfies can be modeled using an HMM.\n"
      ]
    },
    {
      "cell_type": "markdown",
      "metadata": {
        "id": "vMPrA6Uv-u-K"
      },
      "source": [
        "An HMM makes two key assumptions:\n",
        "- **Assumption 1:** The state at time $t$ depends *only* on the state at the previous time $t-1$. \n",
        "- **Assumption 2:** The output at time $t$ depends *only* on the state at time $t$.\n",
        "\n",
        "These two assumptions make it possible to efficiently compute certain quantities that we may be interested in."
      ]
    },
    {
      "cell_type": "markdown",
      "metadata": {
        "id": "mRNhSK7LgEIS"
      },
      "source": [
        "## Components of an HMM\n",
        "An HMM has three sets of trainable parameters.\n",
        "  \n"
      ]
    },
    {
      "cell_type": "markdown",
      "metadata": {
        "id": "7Pu3zm77vXwp"
      },
      "source": [
        "- The **transition model** is a square matrix $A$, where $A_{s, s'}$ represents $p(z_t = s|z_{t-1} = s')$, the probability of jumping from state $s'$ to state $s$. \n",
        "\n",
        "- The **emission model** $b_s(x_t)$ tells us $p(x_t|z_t = s)$, the probability of generating $x_t$ when the system is in state $s$. For discrete observations, which we will use in this notebook, the emission model is just a lookup table, with one row for each state, and one column for each observation. For real-valued observations, it is common to use a Gaussian mixture model or neural network to implement the emission model. \n",
        "\n",
        "- The **state priors** tell us $p(z_1 = s)$, the probability of starting in state $s$. We use $\\pi$ to denote the vector of state priors, so $\\pi_s$ is the state prior for state $s$.\n",
        "\n",
        "Let's program an HMM class in PyTorch."
      ]
    },
    {
      "cell_type": "code",
      "source": [
        "import torch\n",
        "import torch.nn as nn\n",
        "import torch.nn.functional as F\n",
        "import torch.distributions as distrib\n",
        "import torch.distributions.transforms as transform\n",
        "# Imports for plotting\n",
        "import numpy as np\n",
        "import matplotlib.pyplot as plt"
      ],
      "metadata": {
        "id": "OSjVMTgrK8Ck"
      },
      "execution_count": null,
      "outputs": []
    },
    {
      "cell_type": "code",
      "metadata": {
        "id": "aZbW6Pj0og7K"
      },
      "source": [
        "import torch\n",
        "import numpy as np\n",
        "\n",
        "class HMM(torch.nn.Module):\n",
        "  \"\"\"\n",
        "  Hidden Markov Model with discrete observations.\n",
        "  \"\"\"\n",
        "  def __init__(self, N, distributions):\n",
        "    super(HMM, self).__init__()\n",
        "    #self.M = M # number of possible observations\n",
        "    self.N = N # number of states\n",
        "\n",
        "    # A\n",
        "    self.transition_model = TransitionModel(self.N)\n",
        "\n",
        "    # b(x_t)\n",
        "    self.emission_model = EmissionModel(self.N, distributions)\n",
        "\n",
        "    # pi\n",
        "    self.unnormalized_state_priors = torch.nn.Parameter(torch.randn(self.N))\n",
        "\n",
        "    # use the GPU\n",
        "    self.is_cuda = torch.cuda.is_available()\n",
        "    if self.is_cuda: self.cuda()\n",
        "\n",
        "class TransitionModel(torch.nn.Module):\n",
        "  def __init__(self, N):\n",
        "    super(TransitionModel, self).__init__()\n",
        "    self.N = N\n",
        "    self.unnormalized_transition_matrix = torch.nn.Parameter(torch.randn(N,N))\n",
        "\n",
        "class EmissionModel(torch.nn.Module):\n",
        "  def __init__(self, N, distributions):\n",
        "    super(EmissionModel, self).__init__()\n",
        "    self.N = N\n",
        "    self.distributions = distributions ## list of distributions\n",
        "\n",
        "  def pdf(self, hidden_state, observation):\n",
        "    current_distribution = self.distributions[hidden_state]\n",
        "    return torch.exp(current_distribution.log_prob(torch.Tensor(observation)))\n",
        "\n"
      ],
      "execution_count": null,
      "outputs": []
    },
    {
      "cell_type": "code",
      "metadata": {
        "id": "BpgkwNyVwmyM"
      },
      "source": [
        "def sample(self, T=10):\n",
        "  state_priors = torch.nn.functional.softmax(self.unnormalized_state_priors, dim=0)\n",
        "  transition_matrix = torch.nn.functional.softmax(self.transition_model.unnormalized_transition_matrix, dim=0)\n",
        "  #emission_matrix = torch.nn.functional.softmax(self.emission_model.unnormalized_emission_matrix, dim=1)\n",
        "\n",
        "  # sample initial state\n",
        "  z_t = torch.distributions.categorical.Categorical(state_priors).sample().item()\n",
        "  z = []; x = []\n",
        "  z.append(z_t)\n",
        "  for t in range(0,T):\n",
        "    # sample emission\n",
        "    # x_t = torch.distributions.categorical.Categorical(emission_matrix[z_t]).sample().item()\n",
        "    current_distribution = self.emission_model.distributions[z_t]\n",
        "    x_t = current_distribution.sample()\n",
        "    x.append(x_t)\n",
        "\n",
        "    # sample transition\n",
        "    z_t = torch.distributions.categorical.Categorical(transition_matrix[:,z_t]).sample().item()\n",
        "    if t < T-1: z.append(z_t)\n",
        " \n",
        "  return torch.stack(x), z\n",
        "\n",
        "# Add the sampling method to our HMM class\n",
        "HMM.sample = sample"
      ],
      "execution_count": null,
      "outputs": []
    },
    {
      "cell_type": "markdown",
      "source": [
        "#### One dimentional sampling test"
      ],
      "metadata": {
        "id": "QgHSpJB-mDtY"
      }
    },
    {
      "cell_type": "code",
      "source": [
        "test_model = HMM(2, [distrib.Normal(-1,1), distrib.Normal(1, 1)])"
      ],
      "metadata": {
        "id": "fvuibzlKQGbf"
      },
      "execution_count": null,
      "outputs": []
    },
    {
      "cell_type": "code",
      "source": [
        "x, z = test_model.sample(20)"
      ],
      "metadata": {
        "id": "f-2ZlXeEQU-v"
      },
      "execution_count": null,
      "outputs": []
    },
    {
      "cell_type": "code",
      "source": [
        "torch.nn.functional.softmax(test_model.transition_model.unnormalized_transition_matrix, dim=0)"
      ],
      "metadata": {
        "colab": {
          "base_uri": "https://localhost:8080/"
        },
        "id": "d_JoA2TGQm25",
        "outputId": "f5ac075f-8f03-4125-c97b-c65ec44d03ee"
      },
      "execution_count": null,
      "outputs": [
        {
          "output_type": "execute_result",
          "data": {
            "text/plain": [
              "tensor([[0.7758, 0.2836],\n",
              "        [0.2242, 0.7164]], device='cuda:0', grad_fn=<SoftmaxBackward0>)"
            ]
          },
          "metadata": {},
          "execution_count": 61
        }
      ]
    },
    {
      "cell_type": "code",
      "source": [
        "\n",
        "plt.scatter(list(range(len(x))),x, c=z)"
      ],
      "metadata": {
        "colab": {
          "base_uri": "https://localhost:8080/",
          "height": 282
        },
        "id": "ZDqNbbUARKq7",
        "outputId": "a6472967-c559-4b6f-eb11-d03af922ef88"
      },
      "execution_count": null,
      "outputs": [
        {
          "output_type": "execute_result",
          "data": {
            "text/plain": [
              "<matplotlib.collections.PathCollection at 0x7f264e6dd910>"
            ]
          },
          "metadata": {},
          "execution_count": 62
        },
        {
          "output_type": "display_data",
          "data": {
            "text/plain": [
              "<Figure size 432x288 with 1 Axes>"
            ],
            "image/png": "[encoded data removed]"
          },
          "metadata": {
            "needs_background": "light"
          }
        }
      ]
    },
    {
      "cell_type": "code",
      "source": [
        "x,z"
      ],
      "metadata": {
        "colab": {
          "base_uri": "https://localhost:8080/"
        },
        "id": "Dn2igp0GQe60",
        "outputId": "090647f0-7dc2-4ada-aabf-1e39ed2b9895"
      },
      "execution_count": null,
      "outputs": [
        {
          "output_type": "execute_result",
          "data": {
            "text/plain": [
              "(tensor([-1.3998e+00, -1.2692e-03, -6.5672e-01, -1.6916e+00, -9.1379e-01,\n",
              "          2.0331e+00,  9.6820e-01,  2.4606e+00,  1.1227e+00,  3.0998e-01,\n",
              "          1.5695e+00, -1.6654e+00, -1.7475e+00, -3.2506e+00, -8.0724e-01,\n",
              "          1.5555e+00,  2.3876e+00,  4.1671e-01, -2.9125e-02, -1.1235e+00]),\n",
              " [0, 0, 0, 0, 0, 1, 1, 1, 1, 1, 1, 0, 0, 0, 0, 1, 1, 1, 1, 1])"
            ]
          },
          "metadata": {},
          "execution_count": 63
        }
      ]
    },
    {
      "cell_type": "markdown",
      "source": [
        "#### two dimentional sampling test"
      ],
      "metadata": {
        "id": "1WNbMlwdmKH7"
      }
    },
    {
      "cell_type": "code",
      "source": [
        "test_model = HMM(2, [distrib.MultivariateNormal(torch.zeros(2),torch.eye(2)), distrib.MultivariateNormal(torch.ones(2)*5,torch.eye(2))])"
      ],
      "metadata": {
        "id": "PeTbT-VWSkSR"
      },
      "execution_count": null,
      "outputs": []
    },
    {
      "cell_type": "code",
      "source": [
        "x, z = test_model.sample(200)"
      ],
      "metadata": {
        "id": "7lYjGYu4TLPv"
      },
      "execution_count": null,
      "outputs": []
    },
    {
      "cell_type": "code",
      "source": [
        "torch.nn.functional.softmax(test_model.transition_model.unnormalized_transition_matrix, dim=0)\n"
      ],
      "metadata": {
        "colab": {
          "base_uri": "https://localhost:8080/"
        },
        "id": "QfWtNWpmTOuE",
        "outputId": "a09e970a-cc62-49b9-e20e-4939d634dea9"
      },
      "execution_count": null,
      "outputs": [
        {
          "output_type": "execute_result",
          "data": {
            "text/plain": [
              "tensor([[0.7884, 0.0731],\n",
              "        [0.2116, 0.9269]], device='cuda:0', grad_fn=<SoftmaxBackward0>)"
            ]
          },
          "metadata": {},
          "execution_count": 66
        }
      ]
    },
    {
      "cell_type": "code",
      "source": [
        "plt.scatter(x[:,0],x[:,1], c=z)"
      ],
      "metadata": {
        "colab": {
          "base_uri": "https://localhost:8080/",
          "height": 282
        },
        "id": "HIudU1RcTRU-",
        "outputId": "f3e58d91-cfe8-49f0-a33a-cefbb534d6af"
      },
      "execution_count": null,
      "outputs": [
        {
          "output_type": "execute_result",
          "data": {
            "text/plain": [
              "<matplotlib.collections.PathCollection at 0x7f265e1b2090>"
            ]
          },
          "metadata": {},
          "execution_count": 68
        },
        {
          "output_type": "display_data",
          "data": {
            "text/plain": [
              "<Figure size 432x288 with 1 Axes>"
            ],
            "image/png": "[encoded data removed]"
          },
          "metadata": {
            "needs_background": "light"
          }
        }
      ]
    },
    {
      "cell_type": "markdown",
      "metadata": {
        "id": "ohsdYScawkRG"
      },
      "source": [
        "Let's try hard-coding an HMM for generating fake words. (We'll also add some helper functions for encoding and decoding strings.)\n",
        "\n",
        "We will assume that the system has one state for generating vowels and one state for generating consonants, and the transition matrix has 0s on the diagonal---in other words, the system cannot stay in the vowel state or the consonant state for one than one timestep; it has to switch.\n",
        "\n",
        "Since we pass the transition matrix through a softmax, to get 0s we set the unnormalized parameter values to $-\\infty$."
      ]
    },
    {
      "cell_type": "code",
      "source": [
        "test_distr = distrib.Normal(5,1)"
      ],
      "metadata": {
        "id": "GO3bHRzkkQkN"
      },
      "execution_count": null,
      "outputs": []
    },
    {
      "cell_type": "code",
      "source": [
        "torch.exp(test_distr.log_prob(torch.Tensor([4])))"
      ],
      "metadata": {
        "colab": {
          "base_uri": "https://localhost:8080/"
        },
        "id": "nomKg-z9kVZn",
        "outputId": "ddc71202-aa8b-485c-aef5-42cde9df40fe"
      },
      "execution_count": null,
      "outputs": [
        {
          "output_type": "execute_result",
          "data": {
            "text/plain": [
              "tensor([0.2420])"
            ]
          },
          "metadata": {},
          "execution_count": 19
        }
      ]
    },
    {
      "cell_type": "code",
      "source": [
        "x = np.linspace(0, 10, 1000)\n"
      ],
      "metadata": {
        "id": "ygpIvgX4kz9F"
      },
      "execution_count": null,
      "outputs": []
    },
    {
      "cell_type": "code",
      "source": [
        "q0_density = torch.exp(test_distr.log_prob(torch.Tensor(x))).numpy()\n"
      ],
      "metadata": {
        "id": "vnlFqHsQkk5y"
      },
      "execution_count": null,
      "outputs": []
    },
    {
      "cell_type": "code",
      "source": [
        "fig, ax1 = plt.subplots(1, 1, sharex=True, figsize=(15, 5))\n",
        "ax1.plot(x, q0_density); ax1.fill_between(x, q0_density, 0, alpha=0.5)\n",
        "\n"
      ],
      "metadata": {
        "colab": {
          "base_uri": "https://localhost:8080/",
          "height": 337
        },
        "id": "FvZwh66UlAa6",
        "outputId": "22a3b4b0-3236-4885-adc2-99d05d4db0f5"
      },
      "execution_count": null,
      "outputs": [
        {
          "output_type": "execute_result",
          "data": {
            "text/plain": [
              "<matplotlib.collections.PolyCollection at 0x7f265e1eff90>"
            ]
          },
          "metadata": {},
          "execution_count": 22
        },
        {
          "output_type": "display_data",
          "data": {
            "text/plain": [
              "<Figure size 1080x360 with 1 Axes>"
            ],
            "image/png": "[encoded data removed]"
          },
          "metadata": {
            "needs_background": "light"
          }
        }
      ]
    },
    {
      "cell_type": "markdown",
      "metadata": {
        "id": "hKzlTlfRgZod"
      },
      "source": [
        "## The Three Problems\n",
        "\n",
        "In a [classic tutorial](https://www.cs.cmu.edu/~cga/behavior/rabiner1.pdf) on HMMs, Lawrence Rabiner describes \"three problems\" that need to be solved before you can effectively use an HMM. They are:\n",
        "- Problem 1: How do we efficiently compute $p(\\mathbf{x})$?\n",
        "- Problem 2: How do we find the most likely state sequence $\\mathbf{z}$ that could have generated the data? \n",
        "- Problem 3: How do we train the model?\n",
        "\n",
        "In the rest of the notebook, we will see how to solve each problem and implement the solutions in PyTorch."
      ]
    },
    {
      "cell_type": "markdown",
      "metadata": {
        "id": "v_RfIAnmN2RZ"
      },
      "source": [
        "### Problem 1: How do we compute $p(\\mathbf{x})$?"
      ]
    },
    {
      "cell_type": "markdown",
      "metadata": {
        "id": "Z3zUUYH0giKV"
      },
      "source": [
        "\n",
        "#### *Why?*\n",
        "Why might we care about computing $p(\\mathbf{x})$? Here's two reasons.\n",
        "* Given two HMMs, $\\theta_1$ and $\\theta_2$, we can compute the likelihood of some data $\\mathbf{x}$ under each model, $p_{\\theta_1}(\\mathbf{x})$ and $p_{\\theta_2}(\\mathbf{x})$, to decide which model is a better fit to the data. \n",
        "\n",
        "  (For example, given an HMM for English speech and an HMM for French speech, we could compute the likelihood given each model, and pick the model with the higher likelihood to infer whether the person is speaking English or French.)\n",
        "* Being able to compute $p(\\mathbf{x})$ gives us a way to train the model, as we will see later.\n",
        "\n",
        "#### *How?*\n",
        "Given that we want $p(\\mathbf{x})$, how do we compute it?\n",
        "\n",
        "We've assumed that the data is generated by visiting some sequence of states $\\mathbf{z}$ and picking an output $x_t$ for each $z_t$ from the emission distribution $p(x_t|z_t)$. So if we knew $\\mathbf{z}$, then the probability of $\\mathbf{x}$ could be computed as follows:\n",
        "\n",
        "$$p(\\mathbf{x}|\\mathbf{z}) = \\prod_{t} p(x_t|z_t) p(z_t|z_{t-1})$$\n",
        "\n",
        "However, we don't know $\\mathbf{z}$; it's hidden. But we do know the probability of any given $\\mathbf{z}$, independent of what we observe. So we could get the probability of $\\mathbf{x}$ by summing over the different possibilities for $\\mathbf{z}$, like this:\n",
        "\n",
        "$$p(\\mathbf{x}) = \\sum_{\\mathbf{z}} p(\\mathbf{x}|\\mathbf{z}) p(\\mathbf{z}) = \\sum_{\\mathbf{z}} \\prod_{t} p(x_t|z_t) p(z_t|z_{t-1})$$\n",
        "\n",
        "The problem is: if you try to take that sum directly, you will need to compute $N^T$ terms. This is impossible to do for anything but very short sequences. For example, let's say the sequence is of length $T=100$ and there are $N=2$ possible states. Then we would need to check $N^T = 2^{100} \\approx 10^{30}$ different possible state sequences.\n",
        "\n",
        "We need a way to compute $p(\\mathbf{x})$ that doesn't require us to explicitly calculate all $N^T$ terms. For this, we use the forward algorithm."
      ]
    },
    {
      "cell_type": "markdown",
      "metadata": {
        "id": "DrH0YdUAhS6J"
      },
      "source": [
        "________\n",
        "\n",
        "<u><b>The Forward Algorithm</b></u>\n",
        "\n",
        "> for $s=1 \\rightarrow N$:\\\n",
        "> &nbsp;&nbsp;&nbsp;&nbsp;&nbsp;&nbsp;$\\alpha_{s,1} := b_s(x_1) \\cdot \\pi_s$ \n",
        "> \n",
        "> for $t = 2 \\rightarrow T$:\\\n",
        "> &nbsp;&nbsp;&nbsp;&nbsp;&nbsp;&nbsp;for $s = 1 \\rightarrow N$:\\\n",
        "> &nbsp;&nbsp;&nbsp;&nbsp;&nbsp;&nbsp;&nbsp;&nbsp;&nbsp;&nbsp;&nbsp;&nbsp;\n",
        "> $\\alpha_{s,t} := b_s(x_t) \\cdot \\underset{s'}{\\sum} A_{s, s'} \\cdot \\alpha_{s',t-1} $\n",
        "> \n",
        "> $p(\\mathbf{x}) := \\underset{s}{\\sum} \\alpha_{s,T}$\\\n",
        "> return $p(\\mathbf{x})$\n",
        "________\n"
      ]
    },
    {
      "cell_type": "markdown",
      "metadata": {
        "id": "bAdpwRiMn8Vn"
      },
      "source": [
        "The forward algorithm is much faster than enumerating all $N^T$ possible state sequences: it requires only $O(N^2T)$ operations to run, since each step is mostly multiplying the vector of forward variables by the transition matrix. (And very often we can reduce that complexity even further, if the transition matrix is sparse.)\n",
        "\n",
        "There is one practical problem with the forward algorithm as presented above: it is prone to underflow due to multiplying a long chain of small numbers, since probabilities are always between 0 and 1. Instead, let's do everything in the log domain. In the log domain, a multiplication becomes a sum, and a sum becomes a [logsumexp](https://lorenlugosch.github.io/posts/2020/06/logsumexp/).  "
      ]
    },
    {
      "cell_type": "markdown",
      "metadata": {
        "id": "FZ8VsLFxA3iT"
      },
      "source": [
        "________\n",
        "\n",
        "<u><b>The Forward Algorithm (Log Domain)</b></u>\n",
        "\n",
        "> for $s=1 \\rightarrow N$:\\\n",
        "> &nbsp;&nbsp;&nbsp;&nbsp;&nbsp;&nbsp;$\\text{log }\\alpha_{s,1} := \\text{log }b_s(x_1) + \\text{log }\\pi_s$ \n",
        "> \n",
        "> for $t = 2 \\rightarrow T$:\\\n",
        "> &nbsp;&nbsp;&nbsp;&nbsp;&nbsp;&nbsp;for $s = 1 \\rightarrow N$:\\\n",
        "> &nbsp;&nbsp;&nbsp;&nbsp;&nbsp;&nbsp;&nbsp;&nbsp;&nbsp;&nbsp;&nbsp;&nbsp;\n",
        "> $\\text{log }\\alpha_{s,t} := \\text{log }b_s(x_t) +  \\underset{s'}{\\text{logsumexp}} \\left( \\text{log }A_{s, s'} + \\text{log }\\alpha_{s',t-1} \\right)$\n",
        "> \n",
        "> $\\text{log }p(\\mathbf{x}) := \\underset{s}{\\text{logsumexp}} \\left( \\text{log }\\alpha_{s,T} \\right)$\\\n",
        "> return $\\text{log }p(\\mathbf{x})$\n",
        "________"
      ]
    },
    {
      "cell_type": "markdown",
      "metadata": {
        "id": "g55ik6ZCEiJU"
      },
      "source": [
        "Now that we have a numerically stable version of the forward algorithm, let's implement it in PyTorch. "
      ]
    },
    {
      "cell_type": "code",
      "metadata": {
        "id": "3CMdK1EfE1SJ"
      },
      "source": [
        "\n",
        "def HMM_forward(self, x, T):\n",
        "  \"\"\"\n",
        "  x : IntTensor of shape (batch size, T_max)\n",
        "  T : IntTensor of shape (batch size)\n",
        "\n",
        "  Compute log p(x) for each example in the batch.\n",
        "  T = length of each example\n",
        "  \"\"\"\n",
        "  if self.is_cuda:\n",
        "  \tx = x.cuda()\n",
        "  \tT = T.cuda()\n",
        "\n",
        "  batch_size = x.shape[0]; T_max = x.shape[1]\n",
        "  log_state_priors = torch.nn.functional.log_softmax(self.unnormalized_state_priors, dim=0)\n",
        "  log_alpha = torch.zeros(batch_size, T_max, self.N) # table (sample, t, state) containing log probability of observations from sample to time t and being in state (in time t)\n",
        "  if self.is_cuda: log_alpha = log_alpha.cuda()\n",
        "\n",
        "  print(log_state_priors)\n",
        "  log_alpha[:, 0, :] = self.emission_model(x[:,0]) + log_state_priors # emission_model - log prob for each distr\n",
        "  for t in range(1, T_max):\n",
        "    log_alpha[:, t, :] = self.emission_model(x[:,t]) + self.transition_model(log_alpha[:, t-1, :])\n",
        "\n",
        "  # Select the sum for the final timestep (each x may have different length).\n",
        "  #print(\"alpha\\n\", log_alpha)\n",
        "  log_sums = log_alpha.logsumexp(dim=2)\n",
        "  #print(\"log_sums\\n\", log_sums)\n",
        "  #log_probs = torch.gather(log_sums, 1, T.view(1,-1))\n",
        "  log_probs = torch.gather(log_sums, 1, T.view(-1,1)-1)\n",
        "  return log_probs\n",
        "\n",
        "def emission_model_forward(self, x_t): ## TODO\n",
        "  #out = self.distributions.log_prob(x_t)\n",
        "  #out = \n",
        "  out  = []\n",
        "  for state in range(self.N):\n",
        "    out.append( self.distributions[state].log_prob(x_t) )\n",
        "  result = torch.stack(out, dim = 1)\n",
        "  #print(\"emission probs\\n\",result)\n",
        "  return result\n",
        "\n",
        "def transition_model_forward(self, log_alpha):\n",
        "  \"\"\"\n",
        "  log_alpha : Tensor of shape (batch size, N)\n",
        "  Multiply previous timestep's alphas by transition matrix (in log domain)\n",
        "  \"\"\"\n",
        "  log_transition_matrix = torch.nn.functional.log_softmax(self.unnormalized_transition_matrix, dim=0)\n",
        "\n",
        "  # Matrix multiplication in the log domain\n",
        "  out = log_domain_matmul(log_transition_matrix, log_alpha.transpose(0,1)).transpose(0,1)\n",
        "  return out\n",
        "\n",
        "def log_domain_matmul(log_A, log_B):\n",
        "\t\"\"\"\n",
        "\tlog_A : m x n\n",
        "\tlog_B : n x p\n",
        "\toutput : m x p matrix\n",
        "\n",
        "\tNormally, a matrix multiplication\n",
        "\tcomputes out_{i,j} = sum_k A_{i,k} x B_{k,j}\n",
        "\n",
        "\tA log domain matrix multiplication\n",
        "\tcomputes out_{i,j} = logsumexp_k log_A_{i,k} + log_B_{k,j}\n",
        "\t\"\"\"\n",
        "\tm = log_A.shape[0]\n",
        "\tn = log_A.shape[1]\n",
        "\tp = log_B.shape[1]\n",
        "\n",
        "\t# log_A_expanded = torch.stack([log_A] * p, dim=2)\n",
        "\t# log_B_expanded = torch.stack([log_B] * m, dim=0)\n",
        "    # fix for PyTorch > 1.5 by egaznep on Github:\n",
        "\tlog_A_expanded = torch.reshape(log_A, (m,n,1))\n",
        "\tlog_B_expanded = torch.reshape(log_B, (1,n,p))\n",
        "\n",
        "\telementwise_sum = log_A_expanded + log_B_expanded\n",
        "\tout = torch.logsumexp(elementwise_sum, dim=1)\n",
        "\n",
        "\treturn out\n",
        "\n",
        "TransitionModel.forward = transition_model_forward\n",
        "EmissionModel.forward = emission_model_forward\n",
        "HMM.forward = HMM_forward"
      ],
      "execution_count": null,
      "outputs": []
    },
    {
      "cell_type": "markdown",
      "source": [
        "#### Test forward method"
      ],
      "metadata": {
        "id": "K4mnlI8muU6M"
      }
    },
    {
      "cell_type": "code",
      "source": [
        "test_model = HMM(2, [distrib.Normal(-1,1), distrib.Normal(1, 1)])"
      ],
      "metadata": {
        "id": "qPLPQRF-uXid"
      },
      "execution_count": null,
      "outputs": []
    },
    {
      "cell_type": "code",
      "source": [
        "x, states = test_model.sample(30)"
      ],
      "metadata": {
        "id": "Xm_JPMKxucOV"
      },
      "execution_count": null,
      "outputs": []
    },
    {
      "cell_type": "code",
      "source": [
        "#T =torch.Tensor([10,10,10], dtype= torch.int64)\n",
        "T = torch.ones([1,3], dtype=torch.int64)*10\n",
        "T.view(-1, 1)"
      ],
      "metadata": {
        "colab": {
          "base_uri": "https://localhost:8080/"
        },
        "id": "EtSSX_nuvn-L",
        "outputId": "a59f8e24-2a02-4dc1-e766-94b9105e5805"
      },
      "execution_count": null,
      "outputs": [
        {
          "output_type": "execute_result",
          "data": {
            "text/plain": [
              "tensor([[10],\n",
              "        [10],\n",
              "        [10]])"
            ]
          },
          "metadata": {},
          "execution_count": 7
        }
      ]
    },
    {
      "cell_type": "code",
      "source": [
        "test_model(torch.reshape(x, (3, 10)), T)"
      ],
      "metadata": {
        "colab": {
          "base_uri": "https://localhost:8080/"
        },
        "id": "jaBm7pbou8d2",
        "outputId": "4dafdafe-e38a-4248-fe7b-e0eaa096b775"
      },
      "execution_count": null,
      "outputs": [
        {
          "output_type": "stream",
          "name": "stdout",
          "text": [
            "tensor([-0.3451, -1.2314], device='cuda:0', grad_fn=<LogSoftmaxBackward0>)\n",
            "emission probs\n",
            " tensor([[-1.0122, -2.1485],\n",
            "        [-3.7534, -0.9915],\n",
            "        [-1.6459, -1.2343]], device='cuda:0')\n",
            "emission probs\n",
            " tensor([[-4.3764, -1.1172],\n",
            "        [-2.5312, -0.9398],\n",
            "        [-0.9971, -2.2065]], device='cuda:0')\n",
            "emission probs\n",
            " tensor([[-2.5485, -0.9379],\n",
            "        [-1.1631, -4.5607],\n",
            "        [-1.2755, -4.9643]], device='cuda:0')\n",
            "emission probs\n",
            " tensor([[-0.9397, -3.3475],\n",
            "        [-0.9247, -3.1390],\n",
            "        [-2.5072, -0.9426]], device='cuda:0')\n",
            "emission probs\n",
            " tensor([[-2.5871, -0.9340],\n",
            "        [-1.9484, -1.0786],\n",
            "        [-2.4330, -0.9527]], device='cuda:0')\n",
            "emission probs\n",
            " tensor([[-1.0313, -3.9793],\n",
            "        [-1.1017, -1.8925],\n",
            "        [-3.3649, -9.7884]], device='cuda:0')\n",
            "emission probs\n",
            " tensor([[-1.0225, -3.9325],\n",
            "        [-3.0008, -0.9198],\n",
            "        [-3.8865, -1.0141]], device='cuda:0')\n",
            "emission probs\n",
            " tensor([[-1.9762, -6.8845],\n",
            "        [-1.4726, -1.3680],\n",
            "        [-3.5035, -0.9564]], device='cuda:0')\n",
            "emission probs\n",
            " tensor([[ -5.9556, -14.3033],\n",
            "        [ -1.0194,  -2.1230],\n",
            "        [ -2.5178,  -0.9414]], device='cuda:0')\n",
            "emission probs\n",
            " tensor([[-0.9235, -3.1154],\n",
            "        [-3.1284, -0.9242],\n",
            "        [-1.8859, -1.1046]], device='cuda:0')\n",
            "alpha\n",
            " tensor([[[ -1.3573,  -3.3799],\n",
            "         [ -6.3718,  -2.9787],\n",
            "         [ -6.6616,  -4.2562],\n",
            "         [ -6.2480,  -7.9035],\n",
            "         [ -9.4398,  -7.6208],\n",
            "         [ -9.6083, -11.8513],\n",
            "         [-11.2841, -14.0756],\n",
            "         [-13.9402, -18.7580],\n",
            "         [-20.6083, -28.9019],\n",
            "         [-22.2493, -24.3927]],\n",
            "\n",
            "        [[ -4.0985,  -2.2229],\n",
            "         [ -5.7218,  -3.4198],\n",
            "         [ -5.6213,  -8.2735],\n",
            "         [ -7.2204,  -9.3383],\n",
            "         [ -9.8138,  -8.8171],\n",
            "         [-10.6419, -10.8331],\n",
            "         [-13.9438, -11.4792],\n",
            "         [-14.0111, -13.1506],\n",
            "         [-14.8402, -15.3664],\n",
            "         [-18.3717, -15.8449]],\n",
            "\n",
            "        [[ -1.9911,  -2.4657],\n",
            "         [ -3.3770,  -4.2549],\n",
            "         [ -5.1390,  -8.5634],\n",
            "         [ -8.3436,  -6.7077],\n",
            "         [-10.0564,  -7.8904],\n",
            "         [-12.2738, -17.9618],\n",
            "         [-16.8757, -13.9526],\n",
            "         [-18.5603, -15.2342],\n",
            "         [-18.8829, -16.5136],\n",
            "         [-19.4468, -17.9156]]], device='cuda:0', grad_fn=<CopySlices>)\n",
            "log_sums\n",
            " tensor([[ -1.2331,  -2.9456,  -4.1698,  -6.0732,  -7.4705,  -9.5074, -11.2246,\n",
            "         -13.9322, -20.6081, -22.1384],\n",
            "        [ -2.0803,  -3.3245,  -5.5532,  -7.1068,  -8.5030, -10.0398, -11.3976,\n",
            "         -12.7978, -14.3759, -15.7681],\n",
            "        [ -1.5074,  -3.0294,  -5.1069,  -6.5297,  -7.7818, -12.2704, -13.9002,\n",
            "         -15.1989, -16.4241, -17.7198]], device='cuda:0',\n",
            "       grad_fn=<LogsumexpBackward0>)\n"
          ]
        },
        {
          "output_type": "execute_result",
          "data": {
            "text/plain": [
              "tensor([[-22.1384],\n",
              "        [-15.7681],\n",
              "        [-17.7198]], device='cuda:0', grad_fn=<GatherBackward0>)"
            ]
          },
          "metadata": {},
          "execution_count": 8
        }
      ]
    },
    {
      "cell_type": "markdown",
      "metadata": {
        "id": "qBCrFobsEM8X"
      },
      "source": [
        "#### *Side note: deriving the forward algorithm*\n",
        "\n",
        "If you're interested in understanding how the forward algorithm actually computes $p(\\mathbf{x})$, read this section; if not, skip to the next part on \"Problem 2\" (finding the most likely state sequence)."
      ]
    },
    {
      "cell_type": "markdown",
      "metadata": {
        "id": "CpHWWKcxhjkx"
      },
      "source": [
        "\n",
        "\n",
        "To derive the forward algorithm, start by deriving the forward variable:\n",
        "\n",
        "$\n",
        "\\begin{align} \n",
        "    \\alpha_{s,t} &= p(x_1, x_2, \\dots, x_t, z_t=s) \\\\\n",
        "     &= p(x_t | x_1, x_2, \\dots, x_{t-1}, z_t = s) \\cdot p(x_1, x_2, \\dots, x_{t-1}, z_t = s)  \\\\ \n",
        "    &= p(x_t | z_t = s) \\cdot p(x_1, x_2, \\dots, x_{t-1}, z_t = s) \\\\\n",
        "    &= p(x_t | z_t = s) \\cdot \\left( \\sum_{s'} p(x_1, x_2, \\dots, x_{t-1}, z_{t-1}=s', z_t = s) \\right)\\\\\n",
        "    &= p(x_t | z_t = s) \\cdot \\left( \\sum_{s'} p(z_t = s | x_1, x_2, \\dots, x_{t-1}, z_{t-1}=s') \\cdot p(x_1, x_2, \\dots, x_{t-1}, z_{t-1}=s') \\right)\\\\\n",
        "    &= \\underbrace{p(x_t | z_t = s)}_{\\text{emission model}} \\cdot \\left( \\sum_{s'} \\underbrace{p(z_t = s | z_{t-1}=s')}_{\\text{transition model}} \\cdot \\underbrace{p(x_1, x_2, \\dots, x_{t-1}, z_{t-1}=s')}_{\\text{forward variable for previous timestep}} \\right)\\\\\n",
        "    &= b_s(x_t) \\cdot \\left( \\sum_{s'} A_{s, s'} \\cdot \\alpha_{s',t-1} \\right)\n",
        "\\end{align}\n",
        "$\n",
        "\n",
        "I'll explain how to get to each line of this equation from the previous line. \n",
        "\n",
        "Line 1 is the definition of the forward variable $\\alpha_{s,t}$.\n",
        "\n",
        "Line 2 is the chain rule ($p(A,B) = p(A|B) \\cdot p(B)$, where $A$ is $x_t$ and $B$ is all the other variables).\n",
        "\n",
        "In Line 3, we apply Assumption 2: the probability of observation $x_t$ depends only on the current state $z_t$.\n",
        "\n",
        "In Line 4, we marginalize over all the possible states in the previous timestep $t-1$.\n",
        "\n",
        "In Line 5, we apply the chain rule again.\n",
        "\n",
        "In Line 6, we apply Assumption 1: the current state depends only on the previous state.\n",
        "\n",
        "In Line 7, we substitute in the emission probability, the transition probability, and the forward variable for the previous timestep, to get the complete recursion."
      ]
    },
    {
      "cell_type": "markdown",
      "metadata": {
        "id": "kh1ovNjWDbIA"
      },
      "source": [
        "The formula above can be used for $t = 2 \\rightarrow T$. At $t=1$, there is no previous state, so instead of the transition matrix $A$, we use the state priors $\\pi$, which tell us the probability of starting in each state. Thus for $t=1$, the forward variables are computed as follows:\n",
        "\n",
        "$$\\begin{align} \n",
        "\\alpha_{s,1} &= p(x_1, z_1=s) \\\\\n",
        "  &= p(x_1 | z_1 = s) \\cdot p(z_1 = s)  \\\\ \n",
        "&= b_s(x_1) \\cdot \\pi_s\n",
        "\\end{align}$$"
      ]
    },
    {
      "cell_type": "markdown",
      "metadata": {
        "id": "RRzSqkRkEWKX"
      },
      "source": [
        "Finally, to compute $p(\\mathbf{x}) = p(x_1, x_2, \\dots, x_T)$, we marginalize over $\\alpha_{s,T}$, the forward variables computed in the last timestep:\n",
        "\n",
        "$$\\begin{align*} \n",
        "p(\\mathbf{x}) &= \\sum_{s} p(x_1, x_2, \\dots, x_T, z_T = s) \\\\ \n",
        "&= \\sum_{s} \\alpha_{s,T}\n",
        "\\end{align*}$$"
      ]
    },
    {
      "cell_type": "markdown",
      "metadata": {
        "id": "qLBU8Iu7I5Tb"
      },
      "source": [
        "You can get from this formulation to the log domain formulation by taking the log of the forward variable, and using these identities:\n",
        "- $\\text{log }(a \\cdot b) = \\text{log }a + \\text{log }b$\n",
        "- $\\text{log }(a + b) = \\text{log }(e^{\\text{log }a} + e^{\\text{log }b}) = \\text{logsumexp}(\\text{log }a, \\text{log }b)$"
      ]
    },
    {
      "cell_type": "markdown",
      "metadata": {
        "id": "bxivzF8hgpiW"
      },
      "source": [
        "### Problem 2: How do we compute $\\underset{\\mathbf{z}}{\\text{argmax }} p(\\mathbf{z}|\\mathbf{x})$?"
      ]
    },
    {
      "cell_type": "markdown",
      "metadata": {
        "id": "c1Kv2yyiN7SX"
      },
      "source": [
        "Given an observation sequence $\\mathbf{x}$, we may want to find the most likely sequence of states that could have generated $\\mathbf{x}$. (Given the sequence of selfies, we want to infer what cities the friend visited.) In other words, we want $\\underset{\\mathbf{z}}{\\text{argmax }} p(\\mathbf{z}|\\mathbf{x})$.\n",
        "\n",
        "We can use Bayes' rule to rewrite this expression:\n",
        "$$\\begin{align*} \n",
        "    \\underset{\\mathbf{z}}{\\text{argmax }} p(\\mathbf{z}|\\mathbf{x}) &= \\underset{\\mathbf{z}}{\\text{argmax }} \\frac{p(\\mathbf{x}|\\mathbf{z}) p(\\mathbf{z})}{p(\\mathbf{x})} \\\\ \n",
        "    &= \\underset{\\mathbf{z}}{\\text{argmax }} p(\\mathbf{x}|\\mathbf{z}) p(\\mathbf{z})\n",
        "\\end{align*}$$\n",
        "\n",
        "Hmm! That last expression, $\\underset{\\mathbf{z}}{\\text{argmax }} p(\\mathbf{x}|\\mathbf{z}) p(\\mathbf{z})$, looks suspiciously similar to the intractable expression we encountered before introducing the forward algorithm, $\\underset{\\mathbf{z}}{\\sum} p(\\mathbf{x}|\\mathbf{z}) p(\\mathbf{z})$.\n",
        "\n",
        "And indeed, just as the intractable *sum* over all $\\mathbf{z}$ can be implemented efficiently using the forward algorithm, so too this intractable *argmax* can be implemented efficiently using a similar divide-and-conquer algorithm: the legendary Viterbi algorithm!"
      ]
    },
    {
      "cell_type": "markdown",
      "metadata": {
        "id": "niKZEX5xWeWR"
      },
      "source": [
        "________\n",
        "\n",
        "<u><b>The Viterbi Algorithm</b></u>\n",
        "\n",
        "> for $s=1 \\rightarrow N$:\\\n",
        "> &nbsp;&nbsp;&nbsp;&nbsp;&nbsp;&nbsp;$\\delta_{s,1} := b_s(x_1) \\cdot \\pi_s$\\\n",
        "> &nbsp;&nbsp;&nbsp;&nbsp;&nbsp;&nbsp;$\\psi_{s,1} := 0$\n",
        ">\n",
        "> for $t = 2 \\rightarrow T$:\\\n",
        "> &nbsp;&nbsp;&nbsp;&nbsp;&nbsp;&nbsp;for $s = 1 \\rightarrow N$:\\\n",
        "> &nbsp;&nbsp;&nbsp;&nbsp;&nbsp;&nbsp;&nbsp;&nbsp;&nbsp;&nbsp;&nbsp;&nbsp;$\\delta_{s,t} := b_s(x_t) \\cdot \\left( \\underset{s'}{\\text{max }} A_{s, s'} \\cdot \\delta_{s',t-1} \\right)$\\\n",
        "&nbsp;&nbsp;&nbsp;&nbsp;&nbsp;&nbsp;&nbsp;&nbsp;&nbsp;&nbsp;&nbsp;&nbsp;$\\psi_{s,t} := \\underset{s'}{\\text{argmax }} A_{s, s'} \\cdot \\delta_{s',t-1}$\n",
        "> \n",
        "> $z_T^* := \\underset{s}{\\text{argmax }} \\delta_{s,T}$\\\n",
        "> for $t = T-1 \\rightarrow 1$:\\\n",
        "&nbsp;&nbsp;&nbsp;&nbsp;&nbsp;&nbsp;$z_{t}^* := \\psi_{z_{t+1}^*,t+1}$\n",
        "> \n",
        "> $\\mathbf{z}^* := \\{z_{1}^*, \\dots, z_{T}^* \\}$\\\n",
        "return $\\mathbf{z}^*$\n",
        "________"
      ]
    },
    {
      "cell_type": "markdown",
      "metadata": {
        "id": "UcHVTCucZV6K"
      },
      "source": [
        "The Viterbi algorithm looks somewhat gnarlier than the forward algorithm, but it is essentially the same algorithm, with two tweaks: 1) instead of taking the sum over previous states, we take the max; and 2) we record the argmax of the previous states in a table, and loop back over this table at the end to get $\\mathbf{z}^*$, the most likely state sequence. (And like the forward algorithm, we should run the Viterbi algorithm in the log domain for better numerical stability.) "
      ]
    },
    {
      "cell_type": "markdown",
      "metadata": {
        "id": "NlN7IY_JZ5A-"
      },
      "source": [
        "Let's add the Viterbi algorithm to our PyTorch model:"
      ]
    },
    {
      "cell_type": "code",
      "metadata": {
        "id": "qeDG8DVmZ-P0"
      },
      "source": [
        "def viterbi(self, x, T):\n",
        "  \"\"\"\n",
        "  x : IntTensor of shape (batch size, T_max)\n",
        "  T : IntTensor of shape (batch size)\n",
        "  Find argmax_z log p(x|z) for each (x) in the batch.\n",
        "  \"\"\"\n",
        "  if self.is_cuda:\n",
        "    x = x.cuda()\n",
        "    T = T.cuda()\n",
        "\n",
        "  batch_size = x.shape[0]; T_max = x.shape[1]\n",
        "  log_state_priors = torch.nn.functional.log_softmax(self.unnormalized_state_priors, dim=0)\n",
        "  log_delta = torch.zeros(batch_size, T_max, self.N).float()\n",
        "  psi = torch.zeros(batch_size, T_max, self.N).long()\n",
        "  if self.is_cuda:\n",
        "    log_delta = log_delta.cuda()\n",
        "    psi = psi.cuda()\n",
        "\n",
        "  log_delta[:, 0, :] = self.emission_model(x[:,0]) + log_state_priors\n",
        "  for t in range(1, T_max):\n",
        "    max_val, argmax_val = self.transition_model.maxmul(log_delta[:, t-1, :])\n",
        "    log_delta[:, t, :] = self.emission_model(x[:,t]) + max_val\n",
        "    psi[:, t, :] = argmax_val\n",
        "\n",
        "  # Get the log probability of the best path\n",
        "  log_max = log_delta.max(dim=2)[0]\n",
        "  best_path_scores = torch.gather(log_max, 1, T.view(-1,1) - 1)\n",
        "\n",
        "  # This next part is a bit tricky to parallelize across the batch,\n",
        "  # so we will do it separately for each example.\n",
        "  z_star = []\n",
        "  for i in range(0, batch_size):\n",
        "    z_star_i = [ log_delta[i, T[i] - 1, :].max(dim=0)[1].item() ]\n",
        "    for t in range(T[i] - 1, 0, -1):\n",
        "      z_t = psi[i, t, z_star_i[0]].item()\n",
        "      z_star_i.insert(0, z_t)\n",
        "\n",
        "    z_star.append(z_star_i)\n",
        "\n",
        "  return z_star, best_path_scores # return both the best path and its log probability\n",
        "\n",
        "def transition_model_maxmul(self, log_alpha):\n",
        "  log_transition_matrix = torch.nn.functional.log_softmax(self.unnormalized_transition_matrix, dim=0)\n",
        "\n",
        "  out1, out2 = maxmul(log_transition_matrix, log_alpha.transpose(0,1))\n",
        "  return out1.transpose(0,1), out2.transpose(0,1)\n",
        "\n",
        "def maxmul(log_A, log_B):\n",
        "\t\"\"\"\n",
        "\tlog_A : m x n\n",
        "\tlog_B : n x p\n",
        "\toutput : m x p matrix\n",
        "\n",
        "\tSimilar to the log domain matrix multiplication,\n",
        "\tthis computes out_{i,j} = max_k log_A_{i,k} + log_B_{k,j}\n",
        "\t\"\"\"\n",
        "\tm = log_A.shape[0]\n",
        "\tn = log_A.shape[1]\n",
        "\tp = log_B.shape[1]\n",
        "\n",
        "\tlog_A_expanded = torch.stack([log_A] * p, dim=2)\n",
        "\tlog_B_expanded = torch.stack([log_B] * m, dim=0)\n",
        "\n",
        "\telementwise_sum = log_A_expanded + log_B_expanded\n",
        "\tout1,out2 = torch.max(elementwise_sum, dim=1)\n",
        "\n",
        "\treturn out1,out2\n",
        "\n",
        "TransitionModel.maxmul = transition_model_maxmul\n",
        "HMM.viterbi = viterbi"
      ],
      "execution_count": null,
      "outputs": []
    },
    {
      "cell_type": "markdown",
      "source": [
        "### Test viterbi"
      ],
      "metadata": {
        "id": "ddLYM5OH8IzJ"
      }
    },
    {
      "cell_type": "code",
      "source": [
        "test_model = HMM(2, [distrib.Normal(-1,1), distrib.Normal(1, 1)])"
      ],
      "metadata": {
        "id": "OLPEYOgY8FZO"
      },
      "execution_count": null,
      "outputs": []
    },
    {
      "cell_type": "code",
      "source": [
        "x, states = test_model.sample(10)"
      ],
      "metadata": {
        "id": "G0fI_4vX8QPZ"
      },
      "execution_count": null,
      "outputs": []
    },
    {
      "cell_type": "code",
      "source": [
        "x, states"
      ],
      "metadata": {
        "colab": {
          "base_uri": "https://localhost:8080/"
        },
        "id": "Cgx_mORFC9na",
        "outputId": "4b3d666a-d808-48ad-fbaf-d13a366cedfb"
      },
      "execution_count": null,
      "outputs": [
        {
          "output_type": "execute_result",
          "data": {
            "text/plain": [
              "(tensor([ 1.9858,  0.0714,  1.2443,  3.0269, -1.8505, -0.5393,  0.8847, -0.5858,\n",
              "          1.0002, -0.4509]), [1, 1, 1, 1, 0, 0, 1, 1, 1, 1])"
            ]
          },
          "metadata": {},
          "execution_count": 15
        }
      ]
    },
    {
      "cell_type": "code",
      "source": [
        "T = torch.ones([1], dtype=torch.int64)*10\n"
      ],
      "metadata": {
        "id": "wJkumbFN8U25"
      },
      "execution_count": null,
      "outputs": []
    },
    {
      "cell_type": "code",
      "source": [
        "viterbi_results = test_model.viterbi(torch.reshape(x, (1, 10)), T)"
      ],
      "metadata": {
        "colab": {
          "base_uri": "https://localhost:8080/"
        },
        "id": "DBxpXgvbDHvU",
        "outputId": "6463cab8-3085-42e6-8bd4-07fea3da7a93"
      },
      "execution_count": null,
      "outputs": [
        {
          "output_type": "stream",
          "name": "stdout",
          "text": [
            "emission probs\n",
            " tensor([[-5.3763, -1.4048]], device='cuda:0')\n",
            "emission probs\n",
            " tensor([[-1.4929, -1.3501]], device='cuda:0')\n",
            "emission probs\n",
            " tensor([[-3.4374, -0.9488]], device='cuda:0')\n",
            "emission probs\n",
            " tensor([[-9.0271, -2.9732]], device='cuda:0')\n",
            "emission probs\n",
            " tensor([[-1.2806, -4.9815]], device='cuda:0')\n",
            "emission probs\n",
            " tensor([[-1.0251, -2.1036]], device='cuda:0')\n",
            "emission probs\n",
            " tensor([[-2.6951, -0.9256]], device='cuda:0')\n",
            "emission probs\n",
            " tensor([[-1.0047, -2.1763]], device='cuda:0')\n",
            "emission probs\n",
            " tensor([[-2.9194, -0.9189]], device='cuda:0')\n",
            "emission probs\n",
            " tensor([[-1.0697, -1.9716]], device='cuda:0')\n"
          ]
        }
      ]
    },
    {
      "cell_type": "code",
      "source": [
        "viterbi_results"
      ],
      "metadata": {
        "colab": {
          "base_uri": "https://localhost:8080/"
        },
        "id": "NvOSLuk6DmKD",
        "outputId": "d8d7e8dc-09a2-4f4f-a659-7cd6b0aba296"
      },
      "execution_count": null,
      "outputs": [
        {
          "output_type": "execute_result",
          "data": {
            "text/plain": [
              "([[1, 1, 1, 1, 0, 0, 1, 1, 1, 1]],\n",
              " tensor([[-20.1063]], device='cuda:0', grad_fn=<GatherBackward0>))"
            ]
          },
          "metadata": {},
          "execution_count": 23
        }
      ]
    },
    {
      "cell_type": "code",
      "source": [
        "test_model.forward(torch.reshape(x, (1, 10)), T)"
      ],
      "metadata": {
        "colab": {
          "base_uri": "https://localhost:8080/"
        },
        "id": "rS7w6yLLEKYt",
        "outputId": "a9c24844-6e80-4cac-c604-2ab3b2ca6631"
      },
      "execution_count": null,
      "outputs": [
        {
          "output_type": "stream",
          "name": "stdout",
          "text": [
            "tensor([-0.7065, -0.6800], device='cuda:0', grad_fn=<LogSoftmaxBackward0>)\n",
            "emission probs\n",
            " tensor([[-5.3763, -1.4048]], device='cuda:0')\n",
            "emission probs\n",
            " tensor([[-1.4929, -1.3501]], device='cuda:0')\n",
            "emission probs\n",
            " tensor([[-3.4374, -0.9488]], device='cuda:0')\n",
            "emission probs\n",
            " tensor([[-9.0271, -2.9732]], device='cuda:0')\n",
            "emission probs\n",
            " tensor([[-1.2806, -4.9815]], device='cuda:0')\n",
            "emission probs\n",
            " tensor([[-1.0251, -2.1036]], device='cuda:0')\n",
            "emission probs\n",
            " tensor([[-2.6951, -0.9256]], device='cuda:0')\n",
            "emission probs\n",
            " tensor([[-1.0047, -2.1763]], device='cuda:0')\n",
            "emission probs\n",
            " tensor([[-2.9194, -0.9189]], device='cuda:0')\n",
            "emission probs\n",
            " tensor([[-1.0697, -1.9716]], device='cuda:0')\n",
            "alpha\n",
            " tensor([[[ -6.0828,  -2.0848],\n",
            "         [ -5.5228,  -3.5680],\n",
            "         [ -8.4743,  -4.6095],\n",
            "         [-15.5688,  -7.7149],\n",
            "         [-11.0337, -12.8356],\n",
            "         [-12.3748, -13.9677],\n",
            "         [-15.3790, -14.0570],\n",
            "         [-16.2054, -16.2867],\n",
            "         [-19.3141, -17.0341],\n",
            "         [-19.7015, -19.1111]]], device='cuda:0', grad_fn=<CopySlices>)\n",
            "log_sums\n",
            " tensor([[ -2.0666,  -3.4356,  -4.5888,  -7.7145, -10.8810, -12.1897, -13.8206,\n",
            "         -15.5521, -16.9367, -18.6702]], device='cuda:0',\n",
            "       grad_fn=<LogsumexpBackward0>)\n"
          ]
        },
        {
          "output_type": "execute_result",
          "data": {
            "text/plain": [
              "tensor([[-18.6702]], device='cuda:0', grad_fn=<GatherBackward0>)"
            ]
          },
          "metadata": {},
          "execution_count": 25
        }
      ]
    },
    {
      "cell_type": "code",
      "source": [
        "states"
      ],
      "metadata": {
        "colab": {
          "base_uri": "https://localhost:8080/"
        },
        "id": "0H1tpPT7DpKO",
        "outputId": "7bdd6fd2-5254-4760-b6fd-7e1d581b7e67"
      },
      "execution_count": null,
      "outputs": [
        {
          "output_type": "execute_result",
          "data": {
            "text/plain": [
              "[1, 1, 1, 1, 0, 0, 1, 1, 1, 1]"
            ]
          },
          "metadata": {},
          "execution_count": 24
        }
      ]
    },
    {
      "cell_type": "markdown",
      "metadata": {
        "id": "InF6PJVOfHwH"
      },
      "source": [
        "The two scores are the same! That's because in this instance there is only one possible path through the HMM, so the probability of the most likely path is the same as the sum of the probabilities of all possible paths.\n",
        "\n",
        "In general, though, the forward score and Viterbi score will always be somewhat close. This is because of a property of the $\\text{logsumexp}$ function: $\\text{logsumexp}(\\mathbf{x}) \\approx \\max (\\mathbf{x})$. ($\\text{logsumexp}$ is sometimes referred to as the \"smooth maximum\" function.)"
      ]
    },
    {
      "cell_type": "code",
      "metadata": {
        "id": "x__70tB6gnkF",
        "colab": {
          "base_uri": "https://localhost:8080/"
        },
        "outputId": "03c0a543-0770-4958-f84c-2de18b52f9ed"
      },
      "source": [
        "x = torch.tensor([1., 2., 3.])\n",
        "print(x.max(dim=0)[0])\n",
        "print(x.logsumexp(dim=0))"
      ],
      "execution_count": null,
      "outputs": [
        {
          "output_type": "stream",
          "name": "stdout",
          "text": [
            "tensor(3.)\n",
            "tensor(3.4076)\n"
          ]
        }
      ]
    },
    {
      "cell_type": "markdown",
      "metadata": {
        "id": "SvFtiWhzgy0V"
      },
      "source": [
        "### Problem 3: How do we train the model?\n",
        "\n",
        "\n",
        "\n"
      ]
    },
    {
      "cell_type": "markdown",
      "metadata": {
        "id": "r3JaykRalSBZ"
      },
      "source": [
        "Earlier, we hard-coded an HMM to have certain behavior. What we would like to do instead is have the HMM learn to model the data on its own. And while it is possible to use supervised learning with an HMM (by hard-coding the emission model or the transition model) so that the states have a particular interpretation, the really cool thing about HMMs is that they are naturally unsupervised learners, so they can learn to use their different states to represent different patterns in the data, without the programmer needing to indicate what each state means."
      ]
    },
    {
      "cell_type": "markdown",
      "metadata": {
        "id": "8K471fT4N-PR"
      },
      "source": [
        "Like many machine learning models, an HMM can be trained using maximum likelihood estimation, i.e.:\n",
        "\n",
        "$$\\theta^* = \\underset{\\theta}{\\text{argmin }} -\\sum_{\\mathbf{x}^i}\\text{log }p_{\\theta}(\\mathbf{x}^i)$$\n",
        "\n",
        "where $\\mathbf{x}^1, \\mathbf{x}^2, \\dots$ are training examples. \n",
        "\n",
        "The standard method for doing this is the Expectation-Maximization (EM) algorithm, which for HMMs is also called the \"Baum-Welch\" algorithm. In EM training, we alternate between an \"E-step\", where we estimate the values of the latent variables, and an \"M-step\", where the model parameters are updated given the estimated latent variables. (Think $k$-means, where you guess which cluster each data point belongs to, then reestimate where the clusters are, and repeat.) The EM algorithm has some nice properties: it is guaranteed at each step to decrease the loss function, and the E-step and M-step may have an exact closed form solution, in which case no pesky learning rates are required.\n",
        "\n",
        "But because the HMM forward algorithm is differentiable with respect to all the model parameters, we can also just take advantage of automatic differentiation methods in libraries like PyTorch and try to minimize $-\\text{log }p_{\\theta}(\\mathbf{x})$ directly, by backpropagating through the forward algorithm and running stochastic gradient descent. That means we don't need to write any additional HMM code to implement training: `loss.backward()` is all you need."
      ]
    },
    {
      "cell_type": "markdown",
      "metadata": {
        "id": "aVh0-369qZDC"
      },
      "source": [
        "Here we will implement SGD training for an HMM in PyTorch. First, some helper classes:"
      ]
    },
    {
      "cell_type": "code",
      "metadata": {
        "id": "KqiFobGHwdzc"
      },
      "source": [
        "import torch.utils.data\n",
        "from collections import Counter\n",
        "from sklearn.model_selection import train_test_split\n",
        "\n",
        "class TextDataset(torch.utils.data.Dataset):\n",
        "  def __init__(self, lines):\n",
        "    self.lines = lines # list of strings\n",
        "    collate = Collate() # function for generating a minibatch from strings\n",
        "    self.loader = torch.utils.data.DataLoader(self, batch_size=1024, num_workers=1, shuffle=True, collate_fn=collate)\n",
        "\n",
        "  def __len__(self):\n",
        "    return len(self.lines)\n",
        "\n",
        "  def __getitem__(self, idx):\n",
        "    line = self.lines[idx].lstrip(\" \").rstrip(\"\\n\").rstrip(\" \").rstrip(\"\\n\")\n",
        "    return line\n",
        "\n",
        "class Collate:\n",
        "  def __init__(self):\n",
        "    pass\n",
        "\n",
        "  def __call__(self, batch):\n",
        "    \"\"\"\n",
        "    Returns a minibatch of strings, padded to have the same length.\n",
        "    \"\"\"\n",
        "    x = []\n",
        "    batch_size = len(batch)\n",
        "    for index in range(batch_size):\n",
        "      x_ = batch[index]\n",
        "\n",
        "      # convert letters to integers\n",
        "      x.append(encode(x_))\n",
        "\n",
        "    # pad all sequences with 0 to have same length\n",
        "    x_lengths = [len(x_) for x_ in x]\n",
        "    T = max(x_lengths)\n",
        "    for index in range(batch_size):\n",
        "      x[index] += [0] * (T - len(x[index]))\n",
        "      x[index] = torch.tensor(x[index])\n",
        "\n",
        "    # stack into single tensor\n",
        "    x = torch.stack(x)\n",
        "    x_lengths = torch.tensor(x_lengths)\n",
        "    return (x,x_lengths)"
      ],
      "execution_count": null,
      "outputs": []
    },
    {
      "cell_type": "markdown",
      "metadata": {
        "id": "YpDpwnPnAEA9"
      },
      "source": [
        "Let's load some training/testing data. By default, this will use the unix \"words\" file, but you could also use your own text file."
      ]
    },
    {
      "cell_type": "code",
      "metadata": {
        "id": "52NqFHg8ANsB",
        "colab": {
          "base_uri": "https://localhost:8080/"
        },
        "outputId": "04d367cf-3e66-472b-d8de-0623d986f28d"
      },
      "source": [
        "!wget https://raw.githubusercontent.com/lorenlugosch/pytorch_HMM/master/data/train/training.txt\n",
        "\n",
        "filename = \"training.txt\"\n",
        "\n",
        "with open(filename, \"r\") as f:\n",
        "  lines = f.readlines() # each line of lines will have one word\n",
        "\n",
        "alphabet = list(Counter((\"\".join(lines))).keys())\n",
        "train_lines, valid_lines = train_test_split(lines, test_size=0.1, random_state=42)\n",
        "train_dataset = TextDataset(train_lines)\n",
        "valid_dataset = TextDataset(valid_lines)\n",
        "\n",
        "M = len(alphabet)"
      ],
      "execution_count": null,
      "outputs": [
        {
          "output_type": "stream",
          "name": "stdout",
          "text": [
            "--2022-06-12 08:57:32--  https://raw.githubusercontent.com/lorenlugosch/pytorch_HMM/master/data/train/training.txt\n",
            "Resolving raw.githubusercontent.com (raw.githubusercontent.com)... 185.199.108.133, 185.199.109.133, 185.199.110.133, ...\n",
            "Connecting to raw.githubusercontent.com (raw.githubusercontent.com)|185.199.108.133|:443... connected.\n",
            "HTTP request sent, awaiting response... 200 OK\n",
            "Length: 2493109 (2.4M) [text/plain]\n",
            "Saving to: ‘training.txt’\n",
            "\n",
            "training.txt        100%[===================>]   2.38M  --.-KB/s    in 0.03s   \n",
            "\n",
            "2022-06-12 08:57:33 (70.1 MB/s) - ‘training.txt’ saved [2493109/2493109]\n",
            "\n"
          ]
        }
      ]
    },
    {
      "cell_type": "markdown",
      "metadata": {
        "id": "H0AqmyrK7IUn"
      },
      "source": [
        "We will use a Trainer class for training and testing the model:\n",
        "\n"
      ]
    },
    {
      "cell_type": "code",
      "metadata": {
        "id": "iypy_neX9cpq"
      },
      "source": [
        "from tqdm import tqdm # for displaying progress bar\n",
        "\n",
        "class Trainer:\n",
        "  def __init__(self, model, lr):\n",
        "    self.model = model\n",
        "    self.lr = lr\n",
        "    self.optimizer = torch.optim.Adam(model.parameters(), lr=self.lr, weight_decay=0.00001)\n",
        "  \n",
        "  def train(self, dataset):\n",
        "    train_loss = 0\n",
        "    num_samples = 0\n",
        "    self.model.train()\n",
        "    print_interval = 50\n",
        "    for idx, batch in enumerate(tqdm(dataset.loader)):\n",
        "      x,T = batch\n",
        "      batch_size = len(x)\n",
        "      num_samples += batch_size\n",
        "      log_probs = self.model(x,T)\n",
        "      loss = -log_probs.mean()\n",
        "      self.optimizer.zero_grad()\n",
        "      loss.backward()\n",
        "      self.optimizer.step()\n",
        "      train_loss += loss.cpu().data.numpy().item() * batch_size\n",
        "      if idx % print_interval == 0:\n",
        "        print(\"loss:\", loss.item())\n",
        "        for _ in range(5):\n",
        "          sampled_x, sampled_z = self.model.sample()\n",
        "          print(decode(sampled_x))\n",
        "          print(sampled_z)\n",
        "    train_loss /= num_samples\n",
        "    return train_loss\n",
        "\n",
        "  def test(self, dataset):\n",
        "    test_loss = 0\n",
        "    num_samples = 0\n",
        "    self.model.eval()\n",
        "    print_interval = 50\n",
        "    for idx, batch in enumerate(dataset.loader):\n",
        "      x,T = batch\n",
        "      batch_size = len(x)\n",
        "      num_samples += batch_size\n",
        "      log_probs = self.model(x,T)\n",
        "      loss = -log_probs.mean()\n",
        "      test_loss += loss.cpu().data.numpy().item() * batch_size\n",
        "      if idx % print_interval == 0:\n",
        "        print(\"loss:\", loss.item())\n",
        "        sampled_x, sampled_z = self.model.sample()\n",
        "        print(decode(sampled_x))\n",
        "        print(sampled_z)\n",
        "    test_loss /= num_samples\n",
        "    return test_loss"
      ],
      "execution_count": null,
      "outputs": []
    },
    {
      "cell_type": "markdown",
      "metadata": {
        "id": "mUR8qbHm9dMg"
      },
      "source": [
        "Finally, initialize the model and run the main training loop. Every 50 batches, the code will produce a few samples from the model. Over time, these samples should look more and more realistic."
      ]
    },
    {
      "cell_type": "code",
      "metadata": {
        "id": "1-NGIK1Q9g2C",
        "colab": {
          "base_uri": "https://localhost:8080/"
        },
        "outputId": "53092fb7-c32d-4981-c124-f3a1dd5a386a"
      },
      "source": [
        "# Initialize model\n",
        "model = HMM(N=64, M=M)\n",
        "\n",
        "# Train the model\n",
        "num_epochs = 10\n",
        "trainer = Trainer(model, lr=0.01)\n",
        "\n",
        "for epoch in range(num_epochs):\n",
        "        print(\"========= Epoch %d of %d =========\" % (epoch+1, num_epochs))\n",
        "        train_loss = trainer.train(train_dataset)\n",
        "        valid_loss = trainer.test(valid_dataset)\n",
        "\n",
        "        print(\"========= Results: epoch %d of %d =========\" % (epoch+1, num_epochs))\n",
        "        print(\"train loss: %.2f| valid loss: %.2f\\n\" % (train_loss, valid_loss) )"
      ],
      "execution_count": null,
      "outputs": [
        {
          "output_type": "stream",
          "name": "stdout",
          "text": [
            "========= Epoch 1 of 10 =========\n"
          ]
        },
        {
          "output_type": "stream",
          "name": "stderr",
          "text": [
            "\r  0%|          | 0/208 [00:00<?, ?it/s]"
          ]
        },
        {
          "output_type": "stream",
          "name": "stdout",
          "text": [
            "loss: 38.220359802246094\n",
            "ovS\n",
            "BqfdTS\n",
            "[4, 17, 26, 24, 49, 27, 29, 47, 12, 47]"
          ]
        },
        {
          "output_type": "stream",
          "name": "stderr",
          "text": [
            "  1%|▏         | 3/208 [00:00<00:23,  8.55it/s]"
          ]
        },
        {
          "output_type": "stream",
          "name": "stdout",
          "text": [
            "\n",
            "SzhiieL\n",
            "tZ\n",
            "[32, 36, 55, 47, 35, 57, 14, 60, 59, 38]\n",
            "-OVlKNufaM\n",
            "[60, 18, 60, 50, 32, 57, 20, 51, 33, 58]\n",
            "mJkSOib\n",
            "Kw\n",
            "[18, 39, 60, 17, 38, 55, 51, 47, 32, 50]\n",
            "vsIWdPnBnA\n",
            "[0, 8, 56, 27, 17, 23, 47, 39, 58, 57]\n"
          ]
        },
        {
          "output_type": "stream",
          "name": "stderr",
          "text": [
            " 25%|██▌       | 53/208 [00:03<00:10, 14.50it/s]"
          ]
        },
        {
          "output_type": "stream",
          "name": "stdout",
          "text": [
            "loss: 32.680179595947266\n",
            "gdiaEscYSs\n",
            "[32, 30, 50, 14, 48, 43, 20, 42, 26, 29]\n",
            "iUvMlHiiwo\n",
            "[29, 43, 30, 14, 48, 3, 46, 59, 29, 40]\n",
            "SfatoBrGIK\n",
            "[20, 53, 2, 46, 2, 57, 41, 11, 40, 24]\n",
            "mMilVb\n",
            "Yxx\n",
            "[44, 19, 40, 40, 60, 27, 58, 50, 0, 13]\n",
            "sUhYqrlIMx\n",
            "[33, 27, 52, 54, 39, 41, 48, 63, 22, 38]\n"
          ]
        },
        {
          "output_type": "stream",
          "name": "stderr",
          "text": [
            " 50%|████▉     | 103/208 [00:07<00:07, 13.87it/s]"
          ]
        },
        {
          "output_type": "stream",
          "name": "stdout",
          "text": [
            "loss: 30.349931716918945\n",
            "pRrsinkell\n",
            "[50, 62, 12, 45, 62, 22, 58, 38, 59, 15]\n",
            "ihLhnbisud\n",
            "[6, 54, 51, 16, 31, 36, 54, 34, 16, 39]\n",
            "oraonioiqs\n",
            "[0, 41, 17, 52, 0, 59, 63, 22, 0, 14]\n",
            "juciweufcn\n",
            "[44, 62, 49, 1, 50, 0, 43, 47, 35, 20]\n",
            "sicfadnxrd\n",
            "[44, 19, 49, 49, 1, 46, 22, 48, 3, 38]\n"
          ]
        },
        {
          "output_type": "stream",
          "name": "stderr",
          "text": [
            " 74%|███████▎  | 153/208 [00:10<00:03, 15.09it/s]"
          ]
        },
        {
          "output_type": "stream",
          "name": "stdout",
          "text": [
            "loss: 28.456218719482422\n",
            "viycelurTb\n",
            "[44, 62, 12, 14, 45, 16, 14, 41, 63, 39]\n",
            "oiomomyorb\n",
            "[18, 62, 24, 45, 14, 45, 15, 24, 41, 39]\n",
            "ecSlqvFnag\n",
            "[44, 49, 31, 59, 13, 51, 15, 22, 63, 53]\n",
            "hrsoniedil\n",
            "[18, 12, 31, 24, 0, 47, 12, 39, 62, 22]\n",
            "penfniTlru\n",
            "[51, 54, 63, 33, 22, 50, 49, 31, 37, 15]\n"
          ]
        },
        {
          "output_type": "stream",
          "name": "stderr",
          "text": [
            " 98%|█████████▊| 203/208 [00:13<00:00, 14.28it/s]"
          ]
        },
        {
          "output_type": "stream",
          "name": "stdout",
          "text": [
            "loss: 26.394794464111328\n",
            "dascidomyH\n",
            "[34, 14, 5, 46, 62, 34, 24, 45, 24, 45]\n",
            "tFshXdrduV\n",
            "[44, 15, 22, 31, 54, 34, 54, 34, 40, 57]\n",
            "twitcgoesr\n",
            "[44, 21, 43, 12, 5, 58, 31, 54, 5, 39]\n",
            "cudu\n",
            "ltilr\n",
            "[44, 62, 55, 14, 5, 9, 46, 62, 44, 41]\n",
            "ramsVfroag\n",
            "[18, 24, 45, 24, 45, 24, 31, 62, 35, 62]\n"
          ]
        },
        {
          "output_type": "stream",
          "name": "stderr",
          "text": [
            "100%|██████████| 208/208 [00:14<00:00, 14.73it/s]\n"
          ]
        },
        {
          "output_type": "stream",
          "name": "stdout",
          "text": [
            "loss: 26.797958374023438\n",
            "bessrinive\n",
            "[44, 63, 22, 49, 31, 62, 44, 62, 53, 54]\n",
            "========= Results: epoch 1 of 10 =========\n",
            "train loss: 30.79| valid loss: 26.61\n",
            "\n",
            "========= Epoch 2 of 10 =========\n"
          ]
        },
        {
          "output_type": "stream",
          "name": "stderr",
          "text": [
            "  0%|          | 1/208 [00:00<00:40,  5.14it/s]"
          ]
        },
        {
          "output_type": "stream",
          "name": "stdout",
          "text": [
            "loss: 26.685302734375\n",
            "Marusfliih\n",
            "[44, 63, 41, 62, 35, 63, 39, 59, 63, 46]\n",
            "ateemmcala\n",
            "[14, 0, 54, 24, 45, 62, 35, 63, 39, 63]\n",
            "ufKsllpXti\n",
            "[14, 45, 62, 46, 53, 0, 26, 62, 46, 62]\n",
            "eOmogoates\n",
            "[33, 14, 45, 24, 35, 20, 49, 31, 54, 5]\n",
            "-lianhertr\n",
            "[18, 39, 59, 63, 22, 31, 54, 22, 49, 41]\n"
          ]
        },
        {
          "output_type": "stream",
          "name": "stderr",
          "text": [
            " 25%|██▌       | 53/208 [00:03<00:10, 15.15it/s]"
          ]
        },
        {
          "output_type": "stream",
          "name": "stdout",
          "text": [
            "loss: 26.105327606201172\n",
            "rietreeguc\n",
            "[41, 62, 49, 31, 41, 62, 63, 35, 62, 35]\n",
            "rinnibuDrE\n",
            "[41, 62, 5, 45, 62, 44, 14, 1, 41, 62]\n",
            "srarcronha\n",
            "[44, 41, 63, 22, 35, 41, 63, 22, 50, 63]\n",
            "hotingifal\n",
            "[18, 63, 31, 62, 22, 38, 62, 34, 63, 39]\n",
            "pIbcantres\n",
            "[16, 15, 22, 35, 63, 22, 31, 41, 63, 46]\n"
          ]
        },
        {
          "output_type": "stream",
          "name": "stderr",
          "text": [
            " 50%|████▉     | 103/208 [00:06<00:07, 14.15it/s]"
          ]
        },
        {
          "output_type": "stream",
          "name": "stdout",
          "text": [
            "loss: 25.067440032958984\n",
            "radatepnty\n",
            "[41, 63, 39, 63, 31, 62, 46, 22, 31, 62]\n",
            "iasiaslial\n",
            "[62, 63, 45, 62, 63, 46, 6, 54, 63, 53]\n",
            "ancigeroab\n",
            "[63, 22, 31, 62, 35, 54, 41, 24, 14, 39]\n",
            "pedigaceXa\n",
            "[16, 54, 34, 62, 35, 49, 35, 63, 34, 63]\n",
            "socuschewe\n",
            "[48, 63, 35, 14, 45, 46, 50, 63, 39, 62]\n"
          ]
        },
        {
          "output_type": "stream",
          "name": "stderr",
          "text": [
            " 74%|███████▎  | 153/208 [00:10<00:03, 13.95it/s]"
          ]
        },
        {
          "output_type": "stream",
          "name": "stdout",
          "text": [
            "loss: 24.631916046142578\n",
            "giTmmcroov\n",
            "[18, 63, 61, 45, 45, 35, 41, 24, 47, 34]\n",
            "ultoupipia\n",
            "[15, 22, 31, 54, 5, 45, 62, 39, 62, 63]\n",
            "macencrepl\n",
            "[18, 63, 38, 63, 22, 35, 17, 12, 16, 6]\n",
            "phocarnoer\n",
            "[16, 6, 63, 22, 63, 22, 38, 6, 54, 41]\n",
            "racotlipre\n",
            "[41, 63, 35, 63, 31, 41, 62, 35, 41, 54]\n"
          ]
        },
        {
          "output_type": "stream",
          "name": "stderr",
          "text": [
            " 98%|█████████▊| 203/208 [00:13<00:00, 14.80it/s]"
          ]
        },
        {
          "output_type": "stream",
          "name": "stdout",
          "text": [
            "loss: 24.934513092041016\n",
            "sireinapet\n",
            "[44, 15, 22, 38, 62, 22, 24, 45, 49, 31]\n",
            "unocismomr\n",
            "[15, 22, 63, 46, 62, 46, 50, 24, 45, 17]\n",
            "udsliglant\n",
            "[15, 22, 44, 6, 62, 35, 6, 63, 22, 31]\n",
            "tribineaai\n",
            "[33, 41, 62, 39, 62, 31, 54, 5, 43, 62]\n",
            "dumaPtesen\n",
            "[32, 14, 45, 63, 46, 31, 54, 45, 62, 22]\n"
          ]
        },
        {
          "output_type": "stream",
          "name": "stderr",
          "text": [
            "100%|██████████| 208/208 [00:13<00:00, 14.90it/s]\n"
          ]
        },
        {
          "output_type": "stream",
          "name": "stdout",
          "text": [
            "loss: 24.86551284790039\n",
            "couchide-u\n",
            "[35, 63, 14, 46, 50, 62, 34, 54, 5, 52]\n",
            "========= Results: epoch 2 of 10 =========\n",
            "train loss: 25.27| valid loss: 24.60\n",
            "\n",
            "========= Epoch 3 of 10 =========\n"
          ]
        },
        {
          "output_type": "stream",
          "name": "stderr",
          "text": [
            "\r  0%|          | 0/208 [00:00<?, ?it/s]"
          ]
        },
        {
          "output_type": "stream",
          "name": "stdout",
          "text": [
            "loss: 24.48318099975586\n",
            "Anunbofich\n",
            "[21, 0, 15, 22, 38, 63, 22, 62, 46, 50]\n",
            "broteeyoca\n",
            "[26, 41, 63, 31, 59, 49, 25, 24, 35, 63]\n",
            "pmflousiim\n",
            "[18, 36, 44, 6, 24, 14, 46, 50, 62, 31]\n",
            "pqygiaRica\n",
            "[26, 6, 28, 38, 59, 63, 22, 62, 35, 63]\n"
          ]
        },
        {
          "output_type": "stream",
          "name": "stderr",
          "text": [
            "  1%|▏         | 3/208 [00:00<00:20, 10.08it/s]"
          ]
        },
        {
          "output_type": "stream",
          "name": "stdout",
          "text": [
            "viotederee\n",
            "[34, 62, 63, 31, 62, 34, 54, 41, 19, 49]\n"
          ]
        },
        {
          "output_type": "stream",
          "name": "stderr",
          "text": [
            " 25%|██▍       | 51/208 [00:04<00:15, 10.20it/s]"
          ]
        },
        {
          "output_type": "stream",
          "name": "stdout",
          "text": [
            "loss: 24.424537658691406\n",
            "cpanUidado\n",
            "[46, 31, 63, 22, 24, 47, 34, 63, 38, 54]\n",
            "rilitrodin\n",
            "[41, 63, 39, 62, 31, 41, 63, 34, 62, 35]\n",
            "croncKrous\n",
            "[35, 41, 63, 22, 35, 54, 41, 24, 14, 46]\n",
            "onlersnong\n",
            "[63, 22, 31, 54, 5, 44, 6, 63, 22, 38]\n",
            "calosmianD\n",
            "[18, 63, 39, 63, 5, 45, 62, 63, 22, 49]\n"
          ]
        },
        {
          "output_type": "stream",
          "name": "stderr",
          "text": [
            " 50%|████▉     | 103/208 [00:07<00:07, 14.36it/s]"
          ]
        },
        {
          "output_type": "stream",
          "name": "stdout",
          "text": [
            "loss: 24.104280471801758\n",
            "Qandeblver\n",
            "[18, 63, 22, 38, 63, 39, 6, 0, 54, 41]\n",
            "ssheruoian\n",
            "[46, 31, 50, 54, 41, 14, 31, 62, 63, 45]\n",
            "inuuisiote\n",
            "[15, 22, 24, 17, 62, 45, 62, 63, 31, 62]\n",
            "tlDritrito\n",
            "[26, 6, 1, 41, 62, 31, 41, 62, 31, 24]\n",
            "priprighei\n",
            "[26, 41, 62, 35, 41, 62, 35, 50, 62, 46]\n"
          ]
        },
        {
          "output_type": "stream",
          "name": "stderr",
          "text": [
            " 74%|███████▎  | 153/208 [00:11<00:03, 14.59it/s]"
          ]
        },
        {
          "output_type": "stream",
          "name": "stdout",
          "text": [
            "loss: 24.04503631591797\n",
            "Dystrinlem\n",
            "[18, 1, 46, 31, 41, 62, 0, 43, 1, 45]\n",
            "anurateaef\n",
            "[63, 22, 62, 34, 63, 31, 54, 17, 62, 2]\n",
            "sentialcce\n",
            "[44, 63, 22, 31, 62, 63, 39, 49, 31, 62]\n",
            "cholyemall\n",
            "[35, 50, 63, 39, 62, 63, 45, 63, 39, 6]\n",
            "cortailexl\n",
            "[35, 63, 22, 31, 63, 39, 6, 62, 39, 6]\n"
          ]
        },
        {
          "output_type": "stream",
          "name": "stderr",
          "text": [
            " 98%|█████████▊| 203/208 [00:14<00:00, 13.75it/s]"
          ]
        },
        {
          "output_type": "stream",
          "name": "stdout",
          "text": [
            "loss: 24.293285369873047\n",
            "allewovong\n",
            "[63, 39, 6, 54, 41, 63, 34, 63, 22, 38]\n",
            "wanvorNima\n",
            "[18, 63, 22, 34, 54, 5, 44, 62, 45, 63]\n",
            "phiturride\n",
            "[26, 50, 62, 31, 54, 5, 41, 62, 34, 54]\n",
            "mastideoch\n",
            "[18, 63, 22, 31, 62, 34, 62, 63, 35, 50]\n",
            "ffionadept\n",
            "[60, 2, 62, 63, 34, 63, 22, 62, 22, 31]\n"
          ]
        },
        {
          "output_type": "stream",
          "name": "stderr",
          "text": [
            "100%|██████████| 208/208 [00:14<00:00, 13.95it/s]\n"
          ]
        },
        {
          "output_type": "stream",
          "name": "stdout",
          "text": [
            "loss: 23.761920928955078\n",
            "ofeadogidt\n",
            "[47, 34, 54, 63, 39, 24, 32, 62, 34, 54]\n",
            "========= Results: epoch 3 of 10 =========\n",
            "train loss: 24.22| valid loss: 24.04\n",
            "\n",
            "========= Epoch 4 of 10 =========\n"
          ]
        },
        {
          "output_type": "stream",
          "name": "stderr",
          "text": [
            "  0%|          | 1/208 [00:00<00:38,  5.39it/s]"
          ]
        },
        {
          "output_type": "stream",
          "name": "stdout",
          "text": [
            "loss: 24.110631942749023\n",
            "haditonlyd\n",
            "[18, 63, 34, 62, 31, 63, 39, 6, 28, 38]\n",
            "thounulahe\n",
            "[26, 50, 24, 14, 31, 63, 39, 49, 31, 62]\n",
            "pritiotere\n",
            "[26, 41, 62, 31, 62, 63, 31, 54, 41, 62]\n",
            "lireormoge\n",
            "[34, 54, 41, 62, 63, 5, 45, 63, 39, 62]\n",
            "abolicapop\n",
            "[63, 39, 63, 39, 62, 35, 63, 39, 24, 16]\n"
          ]
        },
        {
          "output_type": "stream",
          "name": "stderr",
          "text": [
            " 25%|██▌       | 53/208 [00:03<00:10, 14.40it/s]"
          ]
        },
        {
          "output_type": "stream",
          "name": "stdout",
          "text": [
            "loss: 23.95294189453125\n",
            "divabtiala\n",
            "[34, 62, 34, 63, 39, 31, 62, 63, 39, 49]\n",
            "nanelnevcu\n",
            "[18, 63, 22, 63, 39, 34, 62, 46, 35, 14]\n",
            "sidiUmalel\n",
            "[44, 62, 34, 62, 63, 45, 63, 39, 62, 39]\n",
            "nalitickmp\n",
            "[18, 63, 39, 62, 31, 62, 35, 19, 45, 16]\n",
            "bousistore\n",
            "[18, 24, 14, 46, 62, 46, 31, 54, 41, 63]\n"
          ]
        },
        {
          "output_type": "stream",
          "name": "stderr",
          "text": [
            " 50%|████▉     | 103/208 [00:06<00:07, 13.90it/s]"
          ]
        },
        {
          "output_type": "stream",
          "name": "stdout",
          "text": [
            "loss: 23.891273498535156\n",
            "phtflatial\n",
            "[26, 50, 31, 2, 6, 49, 31, 62, 63, 39]\n",
            "oncreliaph\n",
            "[63, 22, 35, 41, 63, 39, 62, 24, 16, 50]\n",
            "Thotwusheu\n",
            "[26, 50, 63, 31, 37, 62, 46, 50, 63, 22]\n",
            "tysmizusSr\n",
            "[31, 54, 5, 45, 62, 35, 14, 46, 26, 41]\n",
            "scelathyme\n",
            "[44, 35, 63, 39, 49, 31, 50, 28, 45, 62]\n"
          ]
        },
        {
          "output_type": "stream",
          "name": "stderr",
          "text": [
            " 73%|███████▎  | 151/208 [00:10<00:04, 12.48it/s]"
          ]
        },
        {
          "output_type": "stream",
          "name": "stdout",
          "text": [
            "loss: 24.020217895507812\n",
            "Runtearent\n",
            "[18, 15, 22, 31, 54, 49, 41, 63, 22, 38]\n",
            "eundanevil\n",
            "[51, 15, 22, 38, 63, 34, 62, 34, 63, 39]\n",
            "outthredie\n",
            "[24, 14, 46, 31, 50, 41, 62, 34, 62, 63]\n",
            "rurdisnern\n",
            "[41, 14, 39, 34, 62, 46, 0, 54, 5, 0]\n",
            "Mativavnfe\n",
            "[18, 63, 31, 62, 34, 63, 34, 0, 2, 54]\n"
          ]
        },
        {
          "output_type": "stream",
          "name": "stderr",
          "text": [
            " 98%|█████████▊| 203/208 [00:13<00:00, 13.88it/s]"
          ]
        },
        {
          "output_type": "stream",
          "name": "stdout",
          "text": [
            "loss: 23.61150360107422\n",
            "kuoprymoku\n",
            "[34, 54, 24, 16, 41, 62, 34, 63, 31, 14]\n",
            "Atollesaro\n",
            "[21, 31, 63, 39, 6, 54, 45, 49, 41, 24]\n",
            "covoKolype\n",
            "[35, 63, 34, 63, 39, 24, 32, 28, 16, 54]\n",
            "teroninwys\n",
            "[18, 54, 41, 24, 45, 62, 22, 31, 28, 46]\n",
            "ghoussthor\n",
            "[26, 50, 24, 14, 5, 46, 31, 50, 54, 41]\n"
          ]
        },
        {
          "output_type": "stream",
          "name": "stderr",
          "text": [
            "100%|██████████| 208/208 [00:14<00:00, 14.62it/s]\n"
          ]
        },
        {
          "output_type": "stream",
          "name": "stdout",
          "text": [
            "loss: 23.6522216796875\n",
            "vedgydrero\n",
            "[34, 54, 5, 32, 28, 29, 41, 54, 41, 24]\n",
            "========= Results: epoch 4 of 10 =========\n",
            "train loss: 23.89| valid loss: 23.85\n",
            "\n",
            "========= Epoch 5 of 10 =========\n"
          ]
        },
        {
          "output_type": "stream",
          "name": "stderr",
          "text": [
            "  0%|          | 1/208 [00:00<00:38,  5.32it/s]"
          ]
        },
        {
          "output_type": "stream",
          "name": "stdout",
          "text": [
            "loss: 23.433408737182617\n",
            "borsumphal\n",
            "[18, 63, 5, 43, 14, 45, 16, 50, 63, 22]\n",
            "hancorhate\n",
            "[18, 63, 22, 35, 63, 31, 50, 63, 46, 62]\n",
            "bastymangi\n",
            "[48, 49, 46, 31, 28, 45, 63, 22, 38, 62]\n",
            "barnonsour\n",
            "[18, 63, 22, 34, 63, 22, 31, 24, 14, 41]\n",
            "tistJuildo\n",
            "[27, 62, 46, 31, 41, 20, 62, 39, 55, 63]\n"
          ]
        },
        {
          "output_type": "stream",
          "name": "stderr",
          "text": [
            " 25%|██▌       | 53/208 [00:03<00:10, 15.17it/s]"
          ]
        },
        {
          "output_type": "stream",
          "name": "stdout",
          "text": [
            "loss: 23.753307342529297\n",
            "umayistedy\n",
            "[15, 45, 49, 37, 62, 46, 31, 54, 38, 28]\n",
            "poloteatyp\n",
            "[18, 63, 39, 63, 31, 62, 46, 31, 28, 16]\n",
            "inralearir\n",
            "[15, 22, 41, 63, 39, 62, 63, 22, 62, 46]\n",
            "rasciveopy\n",
            "[18, 63, 46, 31, 62, 34, 62, 24, 16, 28]\n",
            "Maumeniabr\n",
            "[18, 63, 15, 45, 63, 22, 62, 63, 48, 41]\n"
          ]
        },
        {
          "output_type": "stream",
          "name": "stderr",
          "text": [
            " 50%|████▉     | 103/208 [00:07<00:07, 13.80it/s]"
          ]
        },
        {
          "output_type": "stream",
          "name": "stdout",
          "text": [
            "loss: 23.89297866821289\n",
            "ochigousta\n",
            "[63, 35, 50, 62, 53, 24, 14, 46, 31, 63]\n",
            "Aspresledn\n",
            "[21, 44, 16, 41, 54, 5, 6, 54, 29, 0]\n",
            "vursanuido\n",
            "[34, 54, 5, 44, 63, 31, 20, 62, 34, 63]\n",
            "subemohrea\n",
            "[44, 20, 10, 54, 45, 63, 50, 41, 62, 63]\n",
            "sulogryort\n",
            "[44, 20, 39, 24, 32, 41, 62, 63, 22, 31]\n"
          ]
        },
        {
          "output_type": "stream",
          "name": "stderr",
          "text": [
            " 74%|███████▎  | 153/208 [00:10<00:03, 14.33it/s]"
          ]
        },
        {
          "output_type": "stream",
          "name": "stdout",
          "text": [
            "loss: 23.550996780395508\n",
            "ceustibral\n",
            "[35, 63, 14, 46, 31, 62, 48, 41, 63, 39]\n",
            "bortabastu\n",
            "[48, 63, 22, 31, 63, 48, 63, 46, 31, 12]\n",
            "elfucthteo\n",
            "[63, 39, 3, 14, 46, 31, 50, 31, 62, 63]\n",
            "inendesmic\n",
            "[15, 22, 62, 22, 34, 54, 5, 45, 62, 35]\n",
            "alanepyler\n",
            "[63, 39, 63, 34, 63, 16, 28, 6, 54, 5]\n"
          ]
        },
        {
          "output_type": "stream",
          "name": "stderr",
          "text": [
            " 98%|█████████▊| 203/208 [00:13<00:00, 14.37it/s]"
          ]
        },
        {
          "output_type": "stream",
          "name": "stdout",
          "text": [
            "loss: 23.570589065551758\n",
            "wyencrivil\n",
            "[18, 61, 63, 22, 35, 41, 62, 34, 62, 6]\n",
            "psedmegdsi\n",
            "[26, 42, 54, 5, 45, 62, 53, 56, 30, 62]\n",
            "untesIidan\n",
            "[15, 22, 31, 54, 5, 18, 62, 34, 63, 22]\n",
            "pofficalle\n",
            "[18, 63, 11, 2, 62, 35, 63, 39, 6, 54]\n",
            "proorinaom\n",
            "[26, 41, 24, 47, 34, 62, 22, 63, 1, 45]\n"
          ]
        },
        {
          "output_type": "stream",
          "name": "stderr",
          "text": [
            "100%|██████████| 208/208 [00:13<00:00, 14.88it/s]\n"
          ]
        },
        {
          "output_type": "stream",
          "name": "stdout",
          "text": [
            "loss: 23.552005767822266\n",
            "weckraisne\n",
            "[41, 62, 35, 19, 41, 63, 62, 46, 0, 54]\n",
            "========= Results: epoch 5 of 10 =========\n",
            "train loss: 23.75| valid loss: 23.74\n",
            "\n",
            "========= Epoch 6 of 10 =========\n"
          ]
        },
        {
          "output_type": "stream",
          "name": "stderr",
          "text": [
            "  0%|          | 1/208 [00:00<00:38,  5.36it/s]"
          ]
        },
        {
          "output_type": "stream",
          "name": "stdout",
          "text": [
            "loss: 23.48934555053711\n",
            "dioserespe\n",
            "[27, 62, 24, 42, 54, 41, 62, 46, 31, 54]\n",
            "rospkitest\n",
            "[41, 24, 44, 16, 31, 62, 31, 62, 46, 31]\n",
            "tiitaliDet\n",
            "[26, 50, 62, 35, 63, 39, 62, 34, 62, 31]\n",
            "cruamosril\n",
            "[26, 41, 20, 63, 45, 63, 31, 41, 62, 39]\n",
            "toledetrim\n",
            "[26, 63, 39, 62, 34, 49, 31, 41, 62, 45]\n"
          ]
        },
        {
          "output_type": "stream",
          "name": "stderr",
          "text": [
            " 25%|██▌       | 53/208 [00:03<00:10, 14.29it/s]"
          ]
        },
        {
          "output_type": "stream",
          "name": "stdout",
          "text": [
            "loss: 23.70694351196289\n",
            "aptupeedis\n",
            "[63, 16, 31, 20, 10, 0, 54, 56, 62, 46]\n",
            "otretionem\n",
            "[63, 31, 41, 62, 31, 62, 63, 22, 1, 45]\n",
            "dremoustis\n",
            "[26, 41, 1, 45, 24, 14, 46, 31, 62, 46]\n",
            "Isleropham\n",
            "[21, 46, 6, 54, 41, 24, 16, 6, 12, 45]\n",
            "relsesdicu\n",
            "[41, 62, 39, 42, 54, 5, 34, 62, 35, 14]\n"
          ]
        },
        {
          "output_type": "stream",
          "name": "stderr",
          "text": [
            " 50%|████▉     | 103/208 [00:06<00:07, 14.82it/s]"
          ]
        },
        {
          "output_type": "stream",
          "name": "stdout",
          "text": [
            "loss: 23.88528823852539\n",
            "ingifelasi\n",
            "[15, 22, 38, 62, 2, 54, 6, 63, 46, 62]\n",
            "soerealise\n",
            "[18, 63, 54, 22, 31, 63, 39, 62, 46, 54]\n",
            "Tinchiollo\n",
            "[26, 15, 22, 35, 50, 62, 63, 39, 6, 24]\n",
            "phelluletr\n",
            "[26, 50, 62, 39, 6, 20, 39, 62, 31, 41]\n",
            "dirarraust\n",
            "[27, 62, 34, 63, 5, 41, 63, 14, 46, 31]\n"
          ]
        },
        {
          "output_type": "stream",
          "name": "stderr",
          "text": [
            " 74%|███████▎  | 153/208 [00:10<00:03, 14.69it/s]"
          ]
        },
        {
          "output_type": "stream",
          "name": "stdout",
          "text": [
            "loss: 23.371965408325195\n",
            "ennineacle\n",
            "[15, 22, 34, 62, 22, 1, 49, 46, 6, 62]\n",
            "rachersane\n",
            "[18, 63, 35, 50, 54, 5, 44, 63, 34, 54]\n",
            "untidatoph\n",
            "[15, 22, 31, 62, 34, 49, 31, 63, 16, 50]\n",
            "imalyshins\n",
            "[15, 45, 49, 17, 62, 46, 50, 62, 22, 46]\n",
            "tretreicac\n",
            "[26, 41, 62, 31, 41, 1, 62, 35, 63, 31]\n"
          ]
        },
        {
          "output_type": "stream",
          "name": "stderr",
          "text": [
            " 98%|█████████▊| 203/208 [00:13<00:00, 14.24it/s]"
          ]
        },
        {
          "output_type": "stream",
          "name": "stdout",
          "text": [
            "loss: 23.569175720214844\n",
            "whraunxier\n",
            "[26, 50, 41, 63, 15, 22, 45, 62, 63, 5]\n",
            "untmuskiva\n",
            "[15, 22, 31, 24, 14, 46, 31, 62, 34, 49]\n",
            "nycatelyla\n",
            "[18, 28, 35, 63, 31, 54, 6, 28, 39, 49]\n",
            "frassaster\n",
            "[26, 41, 63, 5, 44, 1, 46, 31, 54, 5]\n",
            "Sitiausklo\n",
            "[18, 62, 31, 62, 63, 14, 46, 31, 6, 63]\n"
          ]
        },
        {
          "output_type": "stream",
          "name": "stderr",
          "text": [
            "100%|██████████| 208/208 [00:13<00:00, 14.93it/s]\n"
          ]
        },
        {
          "output_type": "stream",
          "name": "stdout",
          "text": [
            "loss: 24.102989196777344\n",
            "hanalobNus\n",
            "[18, 63, 22, 63, 39, 63, 10, 9, 14, 46]\n",
            "========= Results: epoch 6 of 10 =========\n",
            "train loss: 23.65| valid loss: 23.65\n",
            "\n",
            "========= Epoch 7 of 10 =========\n"
          ]
        },
        {
          "output_type": "stream",
          "name": "stderr",
          "text": [
            "  0%|          | 1/208 [00:00<00:39,  5.23it/s]"
          ]
        },
        {
          "output_type": "stream",
          "name": "stdout",
          "text": [
            "loss: 23.449460983276367\n",
            "anroidienr\n",
            "[15, 22, 41, 24, 47, 56, 62, 63, 22, 41]\n",
            "privesmyti\n",
            "[26, 41, 62, 34, 54, 5, 45, 62, 31, 62]\n",
            "biphopterp\n",
            "[48, 62, 16, 50, 63, 16, 31, 54, 5, 16]\n",
            "aridurwhad\n",
            "[63, 39, 62, 34, 54, 5, 43, 50, 63, 34]\n",
            "paterbalal\n",
            "[26, 63, 31, 54, 5, 25, 63, 39, 63, 39]\n"
          ]
        },
        {
          "output_type": "stream",
          "name": "stderr",
          "text": [
            " 25%|██▌       | 53/208 [00:03<00:11, 13.45it/s]"
          ]
        },
        {
          "output_type": "stream",
          "name": "stdout",
          "text": [
            "loss: 23.892345428466797\n",
            "tripessuti\n",
            "[26, 41, 1, 16, 54, 5, 44, 14, 31, 62]\n",
            "seagesichr\n",
            "[44, 1, 49, 38, 54, 5, 62, 35, 50, 41]\n",
            "Cssomatrei\n",
            "[63, 5, 44, 24, 45, 49, 31, 41, 1, 62]\n",
            "messiayyio\n",
            "[18, 1, 46, 31, 62, 63, 23, 36, 59, 12]\n",
            "eperivossc\n",
            "[1, 51, 54, 5, 62, 34, 54, 5, 46, 31]\n"
          ]
        },
        {
          "output_type": "stream",
          "name": "stderr",
          "text": [
            " 50%|████▉     | 103/208 [00:07<00:07, 14.82it/s]"
          ]
        },
        {
          "output_type": "stream",
          "name": "stdout",
          "text": [
            "loss: 23.258758544921875\n",
            "psereenusm\n",
            "[26, 42, 54, 41, 1, 63, 22, 24, 46, 45]\n",
            "peatolerst\n",
            "[18, 1, 63, 31, 54, 6, 54, 5, 46, 31]\n",
            "phaloulous\n",
            "[26, 50, 63, 39, 24, 14, 39, 24, 14, 46]\n",
            "suilineshi\n",
            "[44, 20, 62, 39, 62, 22, 62, 46, 50, 62]\n",
            "acksthalil\n",
            "[63, 35, 19, 46, 31, 50, 63, 39, 62, 6]\n"
          ]
        },
        {
          "output_type": "stream",
          "name": "stderr",
          "text": [
            " 74%|███████▎  | 153/208 [00:10<00:04, 13.68it/s]"
          ]
        },
        {
          "output_type": "stream",
          "name": "stdout",
          "text": [
            "loss: 23.47913932800293\n",
            "ingcreessl\n",
            "[15, 22, 38, 54, 41, 1, 54, 5, 44, 6]\n",
            "ormphypler\n",
            "[63, 5, 45, 16, 50, 28, 16, 6, 54, 5]\n",
            "ivicogypus\n",
            "[47, 34, 62, 35, 24, 32, 28, 16, 14, 46]\n",
            "susridiner\n",
            "[44, 20, 5, 41, 62, 34, 62, 34, 54, 5]\n",
            "stridolric\n",
            "[46, 31, 41, 62, 56, 63, 39, 41, 62, 35]\n"
          ]
        },
        {
          "output_type": "stream",
          "name": "stderr",
          "text": [
            " 98%|█████████▊| 203/208 [00:13<00:00, 14.42it/s]"
          ]
        },
        {
          "output_type": "stream",
          "name": "stdout",
          "text": [
            "loss: 23.940227508544922\n",
            "liristodit\n",
            "[18, 62, 39, 62, 46, 31, 63, 39, 62, 31]\n",
            "trouscless\n",
            "[26, 41, 24, 14, 46, 35, 6, 54, 5, 44]\n",
            "Uutympangl\n",
            "[21, 14, 31, 12, 45, 16, 63, 22, 38, 6]\n",
            "bigalpKync\n",
            "[44, 62, 53, 63, 39, 16, 50, 62, 22, 35]\n",
            "q-erseguia\n",
            "[44, 6, 54, 5, 44, 1, 53, 20, 62, 63]\n"
          ]
        },
        {
          "output_type": "stream",
          "name": "stderr",
          "text": [
            "100%|██████████| 208/208 [00:14<00:00, 14.64it/s]\n"
          ]
        },
        {
          "output_type": "stream",
          "name": "stdout",
          "text": [
            "loss: 23.485172271728516\n",
            "bilouleble\n",
            "[48, 62, 39, 24, 14, 39, 62, 48, 6, 54]\n",
            "========= Results: epoch 7 of 10 =========\n",
            "train loss: 23.55| valid loss: 23.55\n",
            "\n",
            "========= Epoch 8 of 10 =========\n"
          ]
        },
        {
          "output_type": "stream",
          "name": "stderr",
          "text": [
            "\r  0%|          | 0/208 [00:00<?, ?it/s]"
          ]
        },
        {
          "output_type": "stream",
          "name": "stdout",
          "text": [
            "loss: 23.490684509277344\n",
            "rivistevio\n",
            "[17, 62, 34, 62, 46, 31, 62, 34, 62, 63]\n",
            "proosteoce\n",
            "[26, 41, 24, 14, 46, 31, 62, 63, 35, 63]\n",
            "pantatesti\n",
            "[18, 63, 22, 31, 49, 31, 63, 46, 31, 62]\n"
          ]
        },
        {
          "output_type": "stream",
          "name": "stderr",
          "text": [
            "  1%|▏         | 3/208 [00:00<00:20,  9.89it/s]"
          ]
        },
        {
          "output_type": "stream",
          "name": "stdout",
          "text": [
            "deywhonbuc\n",
            "[38, 54, 7, 43, 50, 63, 22, 51, 14, 46]\n",
            "enentlembr\n",
            "[21, 34, 54, 22, 31, 6, 54, 45, 51, 41]\n"
          ]
        },
        {
          "output_type": "stream",
          "name": "stderr",
          "text": [
            " 25%|██▌       | 53/208 [00:03<00:10, 14.85it/s]"
          ]
        },
        {
          "output_type": "stream",
          "name": "stdout",
          "text": [
            "loss: 23.670957565307617\n",
            "blivobersh\n",
            "[48, 6, 62, 34, 54, 10, 54, 5, 43, 50]\n",
            "tryoullear\n",
            "[26, 41, 28, 24, 14, 39, 6, 1, 63, 5]\n",
            "Trocionerc\n",
            "[26, 41, 1, 35, 62, 24, 0, 54, 5, 31]\n",
            "Pohimurgss\n",
            "[26, 63, 50, 62, 45, 14, 22, 38, 46, 31]\n",
            "ragharsedl\n",
            "[41, 49, 38, 50, 63, 5, 45, 54, 56, 6]\n"
          ]
        },
        {
          "output_type": "stream",
          "name": "stderr",
          "text": [
            " 50%|████▉     | 103/208 [00:07<00:07, 14.55it/s]"
          ]
        },
        {
          "output_type": "stream",
          "name": "stdout",
          "text": [
            "loss: 23.539636611938477\n",
            "sednatkess\n",
            "[46, 54, 29, 0, 24, 35, 19, 54, 5, 45]\n",
            "vilictaaid\n",
            "[34, 62, 17, 62, 46, 31, 49, 17, 62, 56]\n",
            "isterricab\n",
            "[21, 46, 31, 54, 5, 41, 62, 35, 63, 4]\n",
            "Crapeloror\n",
            "[26, 41, 1, 18, 63, 39, 24, 41, 24, 41]\n",
            "sangsumosi\n",
            "[44, 63, 22, 38, 46, 12, 45, 24, 42, 62]\n"
          ]
        },
        {
          "output_type": "stream",
          "name": "stderr",
          "text": [
            " 74%|███████▎  | 153/208 [00:10<00:03, 14.02it/s]"
          ]
        },
        {
          "output_type": "stream",
          "name": "stdout",
          "text": [
            "loss: 23.555219650268555\n",
            "odcancuram\n",
            "[47, 56, 35, 63, 22, 31, 54, 41, 62, 45]\n",
            "sthistonio\n",
            "[46, 31, 50, 62, 46, 31, 63, 37, 62, 63]\n",
            "cochoginip\n",
            "[35, 24, 35, 50, 24, 32, 62, 22, 1, 16]\n",
            "stethority\n",
            "[46, 31, 62, 31, 50, 63, 5, 62, 31, 23]\n",
            "luperseuth\n",
            "[6, 1, 16, 54, 5, 42, 54, 5, 46, 50]\n"
          ]
        },
        {
          "output_type": "stream",
          "name": "stderr",
          "text": [
            " 98%|█████████▊| 203/208 [00:13<00:00, 14.39it/s]"
          ]
        },
        {
          "output_type": "stream",
          "name": "stdout",
          "text": [
            "loss: 23.617158889770508\n",
            "peniollala\n",
            "[26, 63, 22, 62, 63, 39, 6, 63, 39, 1]\n",
            "medlsousol\n",
            "[18, 1, 56, 59, 42, 24, 14, 46, 63, 39]\n",
            "acanguisti\n",
            "[21, 35, 63, 22, 38, 20, 62, 46, 31, 62]\n",
            "grartiaxsu\n",
            "[26, 41, 63, 5, 31, 62, 63, 22, 44, 20]\n",
            "Jonissluda\n",
            "[18, 24, 37, 62, 46, 44, 6, 12, 56, 59]\n"
          ]
        },
        {
          "output_type": "stream",
          "name": "stderr",
          "text": [
            "100%|██████████| 208/208 [00:14<00:00, 14.77it/s]\n"
          ]
        },
        {
          "output_type": "stream",
          "name": "stdout",
          "text": [
            "loss: 23.595508575439453\n",
            "Flintroplo\n",
            "[26, 6, 62, 22, 31, 41, 24, 16, 6, 24]\n",
            "========= Results: epoch 8 of 10 =========\n",
            "train loss: 23.46| valid loss: 23.47\n",
            "\n",
            "========= Epoch 9 of 10 =========\n"
          ]
        },
        {
          "output_type": "stream",
          "name": "stderr",
          "text": [
            "\r  0%|          | 0/208 [00:00<?, ?it/s]"
          ]
        },
        {
          "output_type": "stream",
          "name": "stdout",
          "text": [
            "loss: 23.8101749420166\n",
            "ecosterioE\n",
            "[21, 35, 63, 46, 31, 54, 41, 62, 63, 15]\n",
            "tantedrahv\n",
            "[26, 63, 22, 31, 49, 29, 41, 63, 39, 34]\n"
          ]
        },
        {
          "output_type": "stream",
          "name": "stderr",
          "text": [
            "  1%|▏         | 3/208 [00:00<00:21,  9.42it/s]"
          ]
        },
        {
          "output_type": "stream",
          "name": "stdout",
          "text": [
            "Oxhichocyl\n",
            "[15, 22, 50, 62, 35, 50, 24, 35, 28, 39]\n",
            "cksugricom\n",
            "[35, 19, 44, 20, 53, 41, 1, 35, 24, 45]\n",
            "braposomer\n",
            "[26, 41, 1, 16, 24, 44, 24, 45, 54, 41]\n"
          ]
        },
        {
          "output_type": "stream",
          "name": "stderr",
          "text": [
            " 25%|██▌       | 53/208 [00:03<00:10, 14.47it/s]"
          ]
        },
        {
          "output_type": "stream",
          "name": "stdout",
          "text": [
            "loss: 23.47339630126953\n",
            "Momanwlvea\n",
            "[18, 24, 45, 63, 22, 25, 39, 34, 54, 49]\n",
            "honstednes\n",
            "[18, 63, 22, 46, 31, 54, 29, 0, 54, 5]\n",
            "glodronous\n",
            "[38, 6, 24, 32, 41, 63, 22, 24, 14, 42]\n",
            "centylynet\n",
            "[35, 63, 22, 31, 23, 6, 13, 37, 49, 31]\n",
            "apbrosthae\n",
            "[21, 10, 51, 41, 63, 46, 31, 41, 63, 40]\n"
          ]
        },
        {
          "output_type": "stream",
          "name": "stderr",
          "text": [
            " 50%|████▉     | 103/208 [00:07<00:07, 14.31it/s]"
          ]
        },
        {
          "output_type": "stream",
          "name": "stdout",
          "text": [
            "loss: 23.555282592773438\n",
            "phaanachel\n",
            "[26, 50, 63, 15, 22, 1, 35, 50, 62, 6]\n",
            "rQoniferai\n",
            "[10, 55, 24, 45, 62, 2, 54, 41, 1, 62]\n",
            "Dousereste\n",
            "[18, 24, 14, 42, 54, 41, 1, 46, 31, 54]\n",
            "gethterede\n",
            "[18, 1, 31, 50, 31, 54, 5, 54, 56, 63]\n",
            "sphaincone\n",
            "[44, 16, 50, 63, 15, 22, 35, 63, 37, 62]\n"
          ]
        },
        {
          "output_type": "stream",
          "name": "stderr",
          "text": [
            " 74%|███████▎  | 153/208 [00:10<00:03, 14.13it/s]"
          ]
        },
        {
          "output_type": "stream",
          "name": "stdout",
          "text": [
            "loss: 23.41158103942871\n",
            "unilallyhe\n",
            "[15, 22, 14, 39, 49, 39, 6, 28, 50, 54]\n",
            "unajuiatin\n",
            "[15, 22, 1, 44, 20, 62, 49, 31, 62, 22]\n",
            "eizictatri\n",
            "[40, 47, 34, 62, 46, 31, 49, 31, 41, 1]\n",
            "nepoldicur\n",
            "[18, 1, 16, 63, 39, 56, 62, 35, 63, 22]\n",
            "Ulisiveran\n",
            "[21, 39, 62, 46, 62, 34, 54, 41, 63, 22]\n"
          ]
        },
        {
          "output_type": "stream",
          "name": "stderr",
          "text": [
            " 98%|█████████▊| 203/208 [00:13<00:00, 14.31it/s]"
          ]
        },
        {
          "output_type": "stream",
          "name": "stdout",
          "text": [
            "loss: 23.691513061523438\n",
            "eblifermpc\n",
            "[21, 39, 6, 62, 34, 54, 5, 45, 16, 31]\n",
            "chronicart\n",
            "[35, 50, 41, 63, 37, 62, 35, 63, 39, 31]\n",
            "dalledyunt\n",
            "[18, 63, 39, 6, 1, 32, 28, 15, 22, 31]\n",
            "nydlycelen\n",
            "[18, 28, 29, 6, 28, 35, 63, 39, 62, 37]\n",
            "beurnarest\n",
            "[51, 63, 14, 5, 37, 49, 17, 62, 46, 31]\n"
          ]
        },
        {
          "output_type": "stream",
          "name": "stderr",
          "text": [
            "100%|██████████| 208/208 [00:14<00:00, 14.85it/s]\n"
          ]
        },
        {
          "output_type": "stream",
          "name": "stdout",
          "text": [
            "loss: 23.183727264404297\n",
            "saisubomen\n",
            "[18, 1, 40, 44, 20, 10, 54, 45, 62, 22]\n",
            "========= Results: epoch 9 of 10 =========\n",
            "train loss: 23.39| valid loss: 23.41\n",
            "\n",
            "========= Epoch 10 of 10 =========\n"
          ]
        },
        {
          "output_type": "stream",
          "name": "stderr",
          "text": [
            "  0%|          | 1/208 [00:00<00:39,  5.20it/s]"
          ]
        },
        {
          "output_type": "stream",
          "name": "stdout",
          "text": [
            "loss: 23.200057983398438\n",
            "paansuezop\n",
            "[26, 63, 63, 22, 44, 20, 54, 55, 24, 16]\n",
            "pslerconst\n",
            "[26, 42, 6, 54, 5, 35, 63, 22, 46, 31]\n",
            "quatedreba\n",
            "[44, 20, 49, 31, 54, 29, 41, 1, 51, 49]\n",
            "heventners\n",
            "[18, 1, 34, 54, 22, 31, 0, 54, 5, 42]\n",
            "sysersuftr\n",
            "[18, 28, 42, 54, 5, 44, 20, 11, 31, 41]\n"
          ]
        },
        {
          "output_type": "stream",
          "name": "stderr",
          "text": [
            " 25%|██▌       | 53/208 [00:03<00:10, 14.34it/s]"
          ]
        },
        {
          "output_type": "stream",
          "name": "stdout",
          "text": [
            "loss: 23.22366714477539\n",
            "amegablami\n",
            "[21, 45, 62, 53, 49, 48, 6, 1, 45, 62]\n",
            "meterttigh\n",
            "[18, 63, 31, 54, 5, 46, 31, 62, 53, 50]\n",
            "sitesshero\n",
            "[18, 63, 31, 54, 5, 43, 50, 54, 41, 24]\n",
            "fatmicocic\n",
            "[18, 1, 46, 45, 62, 35, 63, 46, 62, 46]\n",
            "plesalalin\n",
            "[26, 6, 1, 46, 63, 39, 49, 39, 62, 0]\n"
          ]
        },
        {
          "output_type": "stream",
          "name": "stderr",
          "text": [
            " 50%|████▉     | 103/208 [00:07<00:07, 14.67it/s]"
          ]
        },
        {
          "output_type": "stream",
          "name": "stdout",
          "text": [
            "loss: 23.44876480102539\n",
            "ricobochce\n",
            "[41, 62, 35, 24, 4, 24, 35, 50, 31, 62]\n",
            "sfosetrica\n",
            "[44, 3, 14, 42, 62, 31, 17, 62, 35, 63]\n",
            "cluifynipp\n",
            "[35, 6, 20, 62, 2, 13, 22, 1, 16, 16]\n",
            "altogronir\n",
            "[21, 39, 31, 54, 32, 41, 63, 22, 62, 22]\n",
            "lutatilapi\n",
            "[18, 1, 31, 49, 31, 62, 39, 49, 31, 62]\n"
          ]
        },
        {
          "output_type": "stream",
          "name": "stderr",
          "text": [
            " 74%|███████▎  | 153/208 [00:10<00:03, 14.97it/s]"
          ]
        },
        {
          "output_type": "stream",
          "name": "stdout",
          "text": [
            "loss: 23.105030059814453\n",
            "ponoangrop\n",
            "[16, 63, 22, 1, 49, 22, 38, 41, 24, 16]\n",
            "sksteriker\n",
            "[44, 19, 46, 31, 54, 41, 1, 19, 54, 5]\n",
            "paronenkut\n",
            "[26, 63, 39, 24, 45, 63, 22, 31, 14, 31]\n",
            "cassnessay\n",
            "[35, 63, 46, 42, 0, 54, 5, 42, 49, 13]\n",
            "lypicontil\n",
            "[18, 28, 16, 62, 35, 63, 22, 31, 62, 39]\n"
          ]
        },
        {
          "output_type": "stream",
          "name": "stderr",
          "text": [
            " 98%|█████████▊| 203/208 [00:13<00:00, 13.99it/s]"
          ]
        },
        {
          "output_type": "stream",
          "name": "stdout",
          "text": [
            "loss: 23.19791603088379\n",
            "muloashopi\n",
            "[18, 14, 39, 24, 49, 46, 50, 24, 16, 62]\n",
            "didgraster\n",
            "[27, 62, 56, 38, 41, 1, 46, 31, 54, 5]\n",
            "sadynatera\n",
            "[18, 1, 56, 13, 37, 49, 31, 54, 41, 1]\n",
            "vondentaNh\n",
            "[25, 63, 22, 38, 54, 22, 31, 49, 43, 50]\n",
            "Gadatitcyc\n",
            "[18, 1, 56, 63, 31, 62, 46, 35, 28, 35]\n"
          ]
        },
        {
          "output_type": "stream",
          "name": "stderr",
          "text": [
            "100%|██████████| 208/208 [00:13<00:00, 14.86it/s]\n"
          ]
        },
        {
          "output_type": "stream",
          "name": "stdout",
          "text": [
            "loss: 23.30792999267578\n",
            "unkerslomi\n",
            "[15, 22, 34, 54, 5, 42, 6, 1, 45, 62]\n",
            "========= Results: epoch 10 of 10 =========\n",
            "train loss: 23.35| valid loss: 23.37\n",
            "\n"
          ]
        }
      ]
    },
    {
      "cell_type": "markdown",
      "metadata": {
        "id": "zymBj9QrDHRM"
      },
      "source": [
        "You may wish to try different values of $N$ and see what the impact on sample quality is."
      ]
    },
    {
      "cell_type": "code",
      "metadata": {
        "id": "auBibYUTtIom",
        "colab": {
          "base_uri": "https://localhost:8080/"
        },
        "outputId": "9c411c4e-b0a0-48de-fc60-b55f1038e7e5"
      },
      "source": [
        "x = torch.tensor(encode(\"quack\")).unsqueeze(0)\n",
        "T = torch.tensor([5])\n",
        "print(model.viterbi(x,T))\n",
        "\n",
        "x = torch.tensor(encode(\"quick\")).unsqueeze(0)\n",
        "T = torch.tensor([5])\n",
        "print(model.viterbi(x,T))\n",
        "\n",
        "x = torch.tensor(encode(\"qurck\")).unsqueeze(0)\n",
        "T = torch.tensor([5])\n",
        "print(model.viterbi(x,T)) # should have lower probability---in English only vowels follow \"qu\"\n",
        "\n",
        "x = torch.tensor(encode(\"qiick\")).unsqueeze(0)\n",
        "T = torch.tensor([5])\n",
        "print(model.viterbi(x,T)) # should have lower probability---in English only \"u\" follows \"q\"\n"
      ],
      "execution_count": null,
      "outputs": [
        {
          "output_type": "stream",
          "name": "stdout",
          "text": [
            "([[44, 20, 49, 35, 19]], tensor([[-15.1298]], device='cuda:0', grad_fn=<GatherBackward0>))\n",
            "([[44, 20, 62, 35, 19]], tensor([[-12.7714]], device='cuda:0', grad_fn=<GatherBackward0>))\n",
            "([[44, 20, 10, 35, 19]], tensor([[-14.3361]], device='cuda:0', grad_fn=<GatherBackward0>))\n",
            "([[44, 1, 62, 35, 19]], tensor([[-18.7059]], device='cuda:0', grad_fn=<GatherBackward0>))\n"
          ]
        }
      ]
    },
    {
      "cell_type": "markdown",
      "metadata": {
        "id": "7eZeQXWjhDev"
      },
      "source": [
        "## Conclusion\n",
        "\n",
        "HMMs used to be very popular in natural language processing, but they have largely been overshadowed by neural network models like RNNs and Transformers. Still, it is fun and instructive to study the HMM; some commonly used machine learning techniques like [Connectionist Temporal Classification](https://www.cs.toronto.edu/~graves/icml_2006.pdf) are inspired by HMM methods. HMMs are [still used in conjunction with neural networks in speech recognition](https://arxiv.org/abs/1811.07453), where the assumption of a one-hot state makes sense for modelling phonemes, which are spoken one at a time."
      ]
    },
    {
      "cell_type": "markdown",
      "metadata": {
        "id": "gXQOBz5zqe10"
      },
      "source": [
        "## Acknowledgments\n",
        "\n",
        "This notebook is based partly on Lawrence Rabiner's excellent article \"[A Tutorial on Hidden Markov Models and Selected Applications in Speech Recognition](https://www.cs.cmu.edu/~cga/behavior/rabiner1.pdf)\", which you may also like to check out. Thanks also to Dima Serdyuk and Kyle Gorman for their feedback on the draft."
      ]
    }
  ]
}